{
  "nbformat": 4,
  "nbformat_minor": 0,
  "metadata": {
    "colab": {
      "provenance": [],
      "collapsed_sections": [
        "HP3yAlwyIEZI",
        "0XQz8fwW5ebd"
      ],
      "toc_visible": true,
      "include_colab_link": true
    },
    "kernelspec": {
      "display_name": "Python 3",
      "name": "python3"
    },
    "language_info": {
      "name": "python"
    }
  },
  "cells": [
    {
      "cell_type": "markdown",
      "metadata": {
        "id": "view-in-github",
        "colab_type": "text"
      },
      "source": [
        "<a href=\"https://colab.research.google.com/github/luccidomingues/Food-and-Recipe-Recommendation-System/blob/main/Recipe_Recommendation_Systems_challenge_last_version.ipynb\" target=\"_parent\"><img src=\"https://colab.research.google.com/assets/colab-badge.svg\" alt=\"Open In Colab\"/></a>"
      ]
    },
    {
      "cell_type": "markdown",
      "source": [
        "# Data Science Practice - Recipe Recommendation System "
      ],
      "metadata": {
        "id": "rB4AAfbec00L"
      }
    },
    {
      "cell_type": "markdown",
      "metadata": {
        "id": "5DH-3_y009FK"
      },
      "source": [
        "### Bibliotecas"
      ]
    },
    {
      "cell_type": "code",
      "metadata": {
        "id": "IprFzZ64-I5P"
      },
      "source": [
        "# Bibliotecas\n",
        "import pandas as pd\n",
        "import matplotlib.pyplot as plt\n",
        "import seaborn as sns\n",
        "import numpy as np\n",
        "\n",
        "from tqdm import tqdm\n",
        "\n",
        "import missingno as msno # Advanced missing values handling\n",
        "%matplotlib inline"
      ],
      "execution_count": null,
      "outputs": []
    },
    {
      "cell_type": "code",
      "source": [
        "tqdm.pandas() # to show the progressbar in pandas computations"
      ],
      "metadata": {
        "id": "GwlyWWUV6-VF"
      },
      "execution_count": null,
      "outputs": []
    },
    {
      "cell_type": "markdown",
      "metadata": {
        "id": "qFBHj1-K1EuE"
      },
      "source": [
        "### Montar drive"
      ]
    },
    {
      "cell_type": "code",
      "metadata": {
        "colab": {
          "base_uri": "https://localhost:8080/"
        },
        "id": "tGUedXhOyaem",
        "outputId": "4c42e648-120c-435b-b3d0-5bb4d731c80c"
      },
      "source": [
        "from google.colab import drive\n",
        "drive.mount('/content/drive/')"
      ],
      "execution_count": null,
      "outputs": [
        {
          "output_type": "stream",
          "name": "stdout",
          "text": [
            "Mounted at /content/drive/\n"
          ]
        }
      ]
    },
    {
      "cell_type": "markdown",
      "metadata": {
        "id": "exsdOTtr25G9"
      },
      "source": [
        "### Path"
      ]
    },
    {
      "cell_type": "code",
      "metadata": {
        "colab": {
          "base_uri": "https://localhost:8080/"
        },
        "id": "1n0U9rgxzlel",
        "outputId": "18c8bf68-c02a-4a49-e273-f5536840b55f"
      },
      "source": [
        "%ls \"/content/drive/My Drive/I2A2/Food or Recipe Recommendation System/Dataset/\"\n"
      ],
      "execution_count": null,
      "outputs": [
        {
          "output_type": "stream",
          "name": "stdout",
          "text": [
            "RAW_interactions.csv  RAW_recipes.csv\n"
          ]
        }
      ]
    },
    {
      "cell_type": "code",
      "metadata": {
        "colab": {
          "base_uri": "https://localhost:8080/",
          "height": 35
        },
        "id": "qyCTJ6cu1qYF",
        "outputId": "7911e41b-84d5-4723-e92b-1f883a92e5a3"
      },
      "source": [
        "path_files = \"/content/drive/My Drive/I2A2/Food or Recipe Recommendation System/Dataset/\"\n",
        "path_files"
      ],
      "execution_count": null,
      "outputs": [
        {
          "output_type": "execute_result",
          "data": {
            "text/plain": [
              "'/content/drive/My Drive/I2A2/Food or Recipe Recommendation System/Dataset/'"
            ],
            "application/vnd.google.colaboratory.intrinsic+json": {
              "type": "string"
            }
          },
          "metadata": {},
          "execution_count": 5
        }
      ]
    },
    {
      "cell_type": "markdown",
      "source": [
        "## Datasets Overview"
      ],
      "metadata": {
        "id": "h-u4rfJ5SPb8"
      }
    },
    {
      "cell_type": "markdown",
      "source": [
        "### Raw interactions\n",
        "\n",
        "\n",
        "\n"
      ],
      "metadata": {
        "id": "e83GFbFjiJW7"
      }
    },
    {
      "cell_type": "code",
      "source": [
        "colunas = ['user_id','recipe_id','rating']\n",
        "df_interactions = pd.read_csv(path_files + \"RAW_interactions.csv\", sep=\",\", usecols=colunas)\n",
        "# df_interactions.info(memory_usage='deep')"
      ],
      "metadata": {
        "id": "4jY3WyxZSABb"
      },
      "execution_count": null,
      "outputs": []
    },
    {
      "cell_type": "code",
      "source": [
        "df_interactions.head()"
      ],
      "metadata": {
        "colab": {
          "base_uri": "https://localhost:8080/",
          "height": 206
        },
        "id": "3xL7kzbjzJ1n",
        "outputId": "c698e817-4d8b-455a-ea62-a11669cdd6b4"
      },
      "execution_count": null,
      "outputs": [
        {
          "output_type": "execute_result",
          "data": {
            "text/plain": [
              "   user_id  recipe_id  rating\n",
              "0    38094      40893       4\n",
              "1  1293707      40893       5\n",
              "2     8937      44394       4\n",
              "3   126440      85009       5\n",
              "4    57222      85009       5"
            ],
            "text/html": [
              "\n",
              "  <div id=\"df-384328cf-bd34-4625-80f7-8a41ed1f43c3\">\n",
              "    <div class=\"colab-df-container\">\n",
              "      <div>\n",
              "<style scoped>\n",
              "    .dataframe tbody tr th:only-of-type {\n",
              "        vertical-align: middle;\n",
              "    }\n",
              "\n",
              "    .dataframe tbody tr th {\n",
              "        vertical-align: top;\n",
              "    }\n",
              "\n",
              "    .dataframe thead th {\n",
              "        text-align: right;\n",
              "    }\n",
              "</style>\n",
              "<table border=\"1\" class=\"dataframe\">\n",
              "  <thead>\n",
              "    <tr style=\"text-align: right;\">\n",
              "      <th></th>\n",
              "      <th>user_id</th>\n",
              "      <th>recipe_id</th>\n",
              "      <th>rating</th>\n",
              "    </tr>\n",
              "  </thead>\n",
              "  <tbody>\n",
              "    <tr>\n",
              "      <th>0</th>\n",
              "      <td>38094</td>\n",
              "      <td>40893</td>\n",
              "      <td>4</td>\n",
              "    </tr>\n",
              "    <tr>\n",
              "      <th>1</th>\n",
              "      <td>1293707</td>\n",
              "      <td>40893</td>\n",
              "      <td>5</td>\n",
              "    </tr>\n",
              "    <tr>\n",
              "      <th>2</th>\n",
              "      <td>8937</td>\n",
              "      <td>44394</td>\n",
              "      <td>4</td>\n",
              "    </tr>\n",
              "    <tr>\n",
              "      <th>3</th>\n",
              "      <td>126440</td>\n",
              "      <td>85009</td>\n",
              "      <td>5</td>\n",
              "    </tr>\n",
              "    <tr>\n",
              "      <th>4</th>\n",
              "      <td>57222</td>\n",
              "      <td>85009</td>\n",
              "      <td>5</td>\n",
              "    </tr>\n",
              "  </tbody>\n",
              "</table>\n",
              "</div>\n",
              "      <button class=\"colab-df-convert\" onclick=\"convertToInteractive('df-384328cf-bd34-4625-80f7-8a41ed1f43c3')\"\n",
              "              title=\"Convert this dataframe to an interactive table.\"\n",
              "              style=\"display:none;\">\n",
              "        \n",
              "  <svg xmlns=\"http://www.w3.org/2000/svg\" height=\"24px\"viewBox=\"0 0 24 24\"\n",
              "       width=\"24px\">\n",
              "    <path d=\"M0 0h24v24H0V0z\" fill=\"none\"/>\n",
              "    <path d=\"M18.56 5.44l.94 2.06.94-2.06 2.06-.94-2.06-.94-.94-2.06-.94 2.06-2.06.94zm-11 1L8.5 8.5l.94-2.06 2.06-.94-2.06-.94L8.5 2.5l-.94 2.06-2.06.94zm10 10l.94 2.06.94-2.06 2.06-.94-2.06-.94-.94-2.06-.94 2.06-2.06.94z\"/><path d=\"M17.41 7.96l-1.37-1.37c-.4-.4-.92-.59-1.43-.59-.52 0-1.04.2-1.43.59L10.3 9.45l-7.72 7.72c-.78.78-.78 2.05 0 2.83L4 21.41c.39.39.9.59 1.41.59.51 0 1.02-.2 1.41-.59l7.78-7.78 2.81-2.81c.8-.78.8-2.07 0-2.86zM5.41 20L4 18.59l7.72-7.72 1.47 1.35L5.41 20z\"/>\n",
              "  </svg>\n",
              "      </button>\n",
              "      \n",
              "  <style>\n",
              "    .colab-df-container {\n",
              "      display:flex;\n",
              "      flex-wrap:wrap;\n",
              "      gap: 12px;\n",
              "    }\n",
              "\n",
              "    .colab-df-convert {\n",
              "      background-color: #E8F0FE;\n",
              "      border: none;\n",
              "      border-radius: 50%;\n",
              "      cursor: pointer;\n",
              "      display: none;\n",
              "      fill: #1967D2;\n",
              "      height: 32px;\n",
              "      padding: 0 0 0 0;\n",
              "      width: 32px;\n",
              "    }\n",
              "\n",
              "    .colab-df-convert:hover {\n",
              "      background-color: #E2EBFA;\n",
              "      box-shadow: 0px 1px 2px rgba(60, 64, 67, 0.3), 0px 1px 3px 1px rgba(60, 64, 67, 0.15);\n",
              "      fill: #174EA6;\n",
              "    }\n",
              "\n",
              "    [theme=dark] .colab-df-convert {\n",
              "      background-color: #3B4455;\n",
              "      fill: #D2E3FC;\n",
              "    }\n",
              "\n",
              "    [theme=dark] .colab-df-convert:hover {\n",
              "      background-color: #434B5C;\n",
              "      box-shadow: 0px 1px 3px 1px rgba(0, 0, 0, 0.15);\n",
              "      filter: drop-shadow(0px 1px 2px rgba(0, 0, 0, 0.3));\n",
              "      fill: #FFFFFF;\n",
              "    }\n",
              "  </style>\n",
              "\n",
              "      <script>\n",
              "        const buttonEl =\n",
              "          document.querySelector('#df-384328cf-bd34-4625-80f7-8a41ed1f43c3 button.colab-df-convert');\n",
              "        buttonEl.style.display =\n",
              "          google.colab.kernel.accessAllowed ? 'block' : 'none';\n",
              "\n",
              "        async function convertToInteractive(key) {\n",
              "          const element = document.querySelector('#df-384328cf-bd34-4625-80f7-8a41ed1f43c3');\n",
              "          const dataTable =\n",
              "            await google.colab.kernel.invokeFunction('convertToInteractive',\n",
              "                                                     [key], {});\n",
              "          if (!dataTable) return;\n",
              "\n",
              "          const docLinkHtml = 'Like what you see? Visit the ' +\n",
              "            '<a target=\"_blank\" href=https://colab.research.google.com/notebooks/data_table.ipynb>data table notebook</a>'\n",
              "            + ' to learn more about interactive tables.';\n",
              "          element.innerHTML = '';\n",
              "          dataTable['output_type'] = 'display_data';\n",
              "          await google.colab.output.renderOutput(dataTable, element);\n",
              "          const docLink = document.createElement('div');\n",
              "          docLink.innerHTML = docLinkHtml;\n",
              "          element.appendChild(docLink);\n",
              "        }\n",
              "      </script>\n",
              "    </div>\n",
              "  </div>\n",
              "  "
            ]
          },
          "metadata": {},
          "execution_count": 6
        }
      ]
    },
    {
      "cell_type": "code",
      "source": [
        "df_interactions.info(memory_usage='deep')"
      ],
      "metadata": {
        "colab": {
          "base_uri": "https://localhost:8080/"
        },
        "id": "zi40jrXi9Tg_",
        "outputId": "24de15db-21ed-40b3-d7be-2fe352747638"
      },
      "execution_count": null,
      "outputs": [
        {
          "output_type": "stream",
          "name": "stdout",
          "text": [
            "<class 'pandas.core.frame.DataFrame'>\n",
            "RangeIndex: 1132367 entries, 0 to 1132366\n",
            "Data columns (total 3 columns):\n",
            " #   Column     Non-Null Count    Dtype\n",
            "---  ------     --------------    -----\n",
            " 0   user_id    1132367 non-null  int64\n",
            " 1   recipe_id  1132367 non-null  int64\n",
            " 2   rating     1132367 non-null  int64\n",
            "dtypes: int64(3)\n",
            "memory usage: 25.9 MB\n"
          ]
        }
      ]
    },
    {
      "cell_type": "code",
      "source": [
        "df_interactions.columns.values"
      ],
      "metadata": {
        "colab": {
          "base_uri": "https://localhost:8080/"
        },
        "id": "Ogh6kzp2Gkv-",
        "outputId": "55afddc4-b613-459c-b0b0-126f6e9e8f52"
      },
      "execution_count": null,
      "outputs": [
        {
          "output_type": "execute_result",
          "data": {
            "text/plain": [
              "array(['user_id', 'recipe_id', 'rating'], dtype=object)"
            ]
          },
          "metadata": {},
          "execution_count": 8
        }
      ]
    },
    {
      "cell_type": "code",
      "source": [
        "df_interactions.tail()"
      ],
      "metadata": {
        "colab": {
          "base_uri": "https://localhost:8080/",
          "height": 206
        },
        "id": "tKdxHc4Jzdkk",
        "outputId": "578273ba-f13c-4d57-82fc-d65835a8b213"
      },
      "execution_count": null,
      "outputs": [
        {
          "output_type": "execute_result",
          "data": {
            "text/plain": [
              "            user_id  recipe_id  rating\n",
              "1132362      116593      72730       0\n",
              "1132363      583662     386618       5\n",
              "1132364      157126      78003       5\n",
              "1132365       53932      78003       4\n",
              "1132366  2001868099      78003       5"
            ],
            "text/html": [
              "\n",
              "  <div id=\"df-3d6fe278-9c61-45e1-9dd6-04382fd0e8e8\">\n",
              "    <div class=\"colab-df-container\">\n",
              "      <div>\n",
              "<style scoped>\n",
              "    .dataframe tbody tr th:only-of-type {\n",
              "        vertical-align: middle;\n",
              "    }\n",
              "\n",
              "    .dataframe tbody tr th {\n",
              "        vertical-align: top;\n",
              "    }\n",
              "\n",
              "    .dataframe thead th {\n",
              "        text-align: right;\n",
              "    }\n",
              "</style>\n",
              "<table border=\"1\" class=\"dataframe\">\n",
              "  <thead>\n",
              "    <tr style=\"text-align: right;\">\n",
              "      <th></th>\n",
              "      <th>user_id</th>\n",
              "      <th>recipe_id</th>\n",
              "      <th>rating</th>\n",
              "    </tr>\n",
              "  </thead>\n",
              "  <tbody>\n",
              "    <tr>\n",
              "      <th>1132362</th>\n",
              "      <td>116593</td>\n",
              "      <td>72730</td>\n",
              "      <td>0</td>\n",
              "    </tr>\n",
              "    <tr>\n",
              "      <th>1132363</th>\n",
              "      <td>583662</td>\n",
              "      <td>386618</td>\n",
              "      <td>5</td>\n",
              "    </tr>\n",
              "    <tr>\n",
              "      <th>1132364</th>\n",
              "      <td>157126</td>\n",
              "      <td>78003</td>\n",
              "      <td>5</td>\n",
              "    </tr>\n",
              "    <tr>\n",
              "      <th>1132365</th>\n",
              "      <td>53932</td>\n",
              "      <td>78003</td>\n",
              "      <td>4</td>\n",
              "    </tr>\n",
              "    <tr>\n",
              "      <th>1132366</th>\n",
              "      <td>2001868099</td>\n",
              "      <td>78003</td>\n",
              "      <td>5</td>\n",
              "    </tr>\n",
              "  </tbody>\n",
              "</table>\n",
              "</div>\n",
              "      <button class=\"colab-df-convert\" onclick=\"convertToInteractive('df-3d6fe278-9c61-45e1-9dd6-04382fd0e8e8')\"\n",
              "              title=\"Convert this dataframe to an interactive table.\"\n",
              "              style=\"display:none;\">\n",
              "        \n",
              "  <svg xmlns=\"http://www.w3.org/2000/svg\" height=\"24px\"viewBox=\"0 0 24 24\"\n",
              "       width=\"24px\">\n",
              "    <path d=\"M0 0h24v24H0V0z\" fill=\"none\"/>\n",
              "    <path d=\"M18.56 5.44l.94 2.06.94-2.06 2.06-.94-2.06-.94-.94-2.06-.94 2.06-2.06.94zm-11 1L8.5 8.5l.94-2.06 2.06-.94-2.06-.94L8.5 2.5l-.94 2.06-2.06.94zm10 10l.94 2.06.94-2.06 2.06-.94-2.06-.94-.94-2.06-.94 2.06-2.06.94z\"/><path d=\"M17.41 7.96l-1.37-1.37c-.4-.4-.92-.59-1.43-.59-.52 0-1.04.2-1.43.59L10.3 9.45l-7.72 7.72c-.78.78-.78 2.05 0 2.83L4 21.41c.39.39.9.59 1.41.59.51 0 1.02-.2 1.41-.59l7.78-7.78 2.81-2.81c.8-.78.8-2.07 0-2.86zM5.41 20L4 18.59l7.72-7.72 1.47 1.35L5.41 20z\"/>\n",
              "  </svg>\n",
              "      </button>\n",
              "      \n",
              "  <style>\n",
              "    .colab-df-container {\n",
              "      display:flex;\n",
              "      flex-wrap:wrap;\n",
              "      gap: 12px;\n",
              "    }\n",
              "\n",
              "    .colab-df-convert {\n",
              "      background-color: #E8F0FE;\n",
              "      border: none;\n",
              "      border-radius: 50%;\n",
              "      cursor: pointer;\n",
              "      display: none;\n",
              "      fill: #1967D2;\n",
              "      height: 32px;\n",
              "      padding: 0 0 0 0;\n",
              "      width: 32px;\n",
              "    }\n",
              "\n",
              "    .colab-df-convert:hover {\n",
              "      background-color: #E2EBFA;\n",
              "      box-shadow: 0px 1px 2px rgba(60, 64, 67, 0.3), 0px 1px 3px 1px rgba(60, 64, 67, 0.15);\n",
              "      fill: #174EA6;\n",
              "    }\n",
              "\n",
              "    [theme=dark] .colab-df-convert {\n",
              "      background-color: #3B4455;\n",
              "      fill: #D2E3FC;\n",
              "    }\n",
              "\n",
              "    [theme=dark] .colab-df-convert:hover {\n",
              "      background-color: #434B5C;\n",
              "      box-shadow: 0px 1px 3px 1px rgba(0, 0, 0, 0.15);\n",
              "      filter: drop-shadow(0px 1px 2px rgba(0, 0, 0, 0.3));\n",
              "      fill: #FFFFFF;\n",
              "    }\n",
              "  </style>\n",
              "\n",
              "      <script>\n",
              "        const buttonEl =\n",
              "          document.querySelector('#df-3d6fe278-9c61-45e1-9dd6-04382fd0e8e8 button.colab-df-convert');\n",
              "        buttonEl.style.display =\n",
              "          google.colab.kernel.accessAllowed ? 'block' : 'none';\n",
              "\n",
              "        async function convertToInteractive(key) {\n",
              "          const element = document.querySelector('#df-3d6fe278-9c61-45e1-9dd6-04382fd0e8e8');\n",
              "          const dataTable =\n",
              "            await google.colab.kernel.invokeFunction('convertToInteractive',\n",
              "                                                     [key], {});\n",
              "          if (!dataTable) return;\n",
              "\n",
              "          const docLinkHtml = 'Like what you see? Visit the ' +\n",
              "            '<a target=\"_blank\" href=https://colab.research.google.com/notebooks/data_table.ipynb>data table notebook</a>'\n",
              "            + ' to learn more about interactive tables.';\n",
              "          element.innerHTML = '';\n",
              "          dataTable['output_type'] = 'display_data';\n",
              "          await google.colab.output.renderOutput(dataTable, element);\n",
              "          const docLink = document.createElement('div');\n",
              "          docLink.innerHTML = docLinkHtml;\n",
              "          element.appendChild(docLink);\n",
              "        }\n",
              "      </script>\n",
              "    </div>\n",
              "  </div>\n",
              "  "
            ]
          },
          "metadata": {},
          "execution_count": 9
        }
      ]
    },
    {
      "cell_type": "markdown",
      "source": [
        "### Raw recipes"
      ],
      "metadata": {
        "id": "lEzYsTwriwCb"
      }
    },
    {
      "cell_type": "code",
      "source": [
        "# colunas = ['user_id','recipe_id','rating']\n",
        "df_recipes = pd.read_csv(path_files + \"RAW_recipes.csv\", sep=\",\")\n",
        "# df_interactions.info(memory_usage='deep')"
      ],
      "metadata": {
        "id": "RwsQvZKmiuvf"
      },
      "execution_count": null,
      "outputs": []
    },
    {
      "cell_type": "code",
      "source": [
        "df_recipes.head()"
      ],
      "metadata": {
        "colab": {
          "base_uri": "https://localhost:8080/",
          "height": 614
        },
        "id": "67Hfkt4bkcGE",
        "outputId": "2d48303f-bb8a-46ca-cb45-e67fb08ad618"
      },
      "execution_count": null,
      "outputs": [
        {
          "output_type": "execute_result",
          "data": {
            "text/plain": [
              "                                         name      id  minutes  \\\n",
              "0  arriba   baked winter squash mexican style  137739       55   \n",
              "1            a bit different  breakfast pizza   31490       30   \n",
              "2                   all in the kitchen  chili  112140      130   \n",
              "3                          alouette  potatoes   59389       45   \n",
              "4          amish  tomato ketchup  for canning   44061      190   \n",
              "\n",
              "   contributor_id   submitted  \\\n",
              "0           47892  2005-09-16   \n",
              "1           26278  2002-06-17   \n",
              "2          196586  2005-02-25   \n",
              "3           68585  2003-04-14   \n",
              "4           41706  2002-10-25   \n",
              "\n",
              "                                                tags  \\\n",
              "0  ['60-minutes-or-less', 'time-to-make', 'course...   \n",
              "1  ['30-minutes-or-less', 'time-to-make', 'course...   \n",
              "2  ['time-to-make', 'course', 'preparation', 'mai...   \n",
              "3  ['60-minutes-or-less', 'time-to-make', 'course...   \n",
              "4  ['weeknight', 'time-to-make', 'course', 'main-...   \n",
              "\n",
              "                                    nutrition  n_steps  \\\n",
              "0       [51.5, 0.0, 13.0, 0.0, 2.0, 0.0, 4.0]       11   \n",
              "1   [173.4, 18.0, 0.0, 17.0, 22.0, 35.0, 1.0]        9   \n",
              "2  [269.8, 22.0, 32.0, 48.0, 39.0, 27.0, 5.0]        6   \n",
              "3   [368.1, 17.0, 10.0, 2.0, 14.0, 8.0, 20.0]       11   \n",
              "4   [352.9, 1.0, 337.0, 23.0, 3.0, 0.0, 28.0]        5   \n",
              "\n",
              "                                               steps  \\\n",
              "0  ['make a choice and proceed with recipe', 'dep...   \n",
              "1  ['preheat oven to 425 degrees f', 'press dough...   \n",
              "2  ['brown ground beef in large pot', 'add choppe...   \n",
              "3  ['place potatoes in a large pot of lightly sal...   \n",
              "4  ['mix all ingredients& boil for 2 1 / 2 hours ...   \n",
              "\n",
              "                                         description  \\\n",
              "0  autumn is my favorite time of year to cook! th...   \n",
              "1  this recipe calls for the crust to be prebaked...   \n",
              "2  this modified version of 'mom's' chili was a h...   \n",
              "3  this is a super easy, great tasting, make ahea...   \n",
              "4  my dh's amish mother raised him on this recipe...   \n",
              "\n",
              "                                         ingredients  n_ingredients  \n",
              "0  ['winter squash', 'mexican seasoning', 'mixed ...              7  \n",
              "1  ['prepared pizza crust', 'sausage patty', 'egg...              6  \n",
              "2  ['ground beef', 'yellow onions', 'diced tomato...             13  \n",
              "3  ['spreadable cheese with garlic and herbs', 'n...             11  \n",
              "4  ['tomato juice', 'apple cider vinegar', 'sugar...              8  "
            ],
            "text/html": [
              "\n",
              "  <div id=\"df-339a55fb-574b-46c4-836a-9bbb645621af\">\n",
              "    <div class=\"colab-df-container\">\n",
              "      <div>\n",
              "<style scoped>\n",
              "    .dataframe tbody tr th:only-of-type {\n",
              "        vertical-align: middle;\n",
              "    }\n",
              "\n",
              "    .dataframe tbody tr th {\n",
              "        vertical-align: top;\n",
              "    }\n",
              "\n",
              "    .dataframe thead th {\n",
              "        text-align: right;\n",
              "    }\n",
              "</style>\n",
              "<table border=\"1\" class=\"dataframe\">\n",
              "  <thead>\n",
              "    <tr style=\"text-align: right;\">\n",
              "      <th></th>\n",
              "      <th>name</th>\n",
              "      <th>id</th>\n",
              "      <th>minutes</th>\n",
              "      <th>contributor_id</th>\n",
              "      <th>submitted</th>\n",
              "      <th>tags</th>\n",
              "      <th>nutrition</th>\n",
              "      <th>n_steps</th>\n",
              "      <th>steps</th>\n",
              "      <th>description</th>\n",
              "      <th>ingredients</th>\n",
              "      <th>n_ingredients</th>\n",
              "    </tr>\n",
              "  </thead>\n",
              "  <tbody>\n",
              "    <tr>\n",
              "      <th>0</th>\n",
              "      <td>arriba   baked winter squash mexican style</td>\n",
              "      <td>137739</td>\n",
              "      <td>55</td>\n",
              "      <td>47892</td>\n",
              "      <td>2005-09-16</td>\n",
              "      <td>['60-minutes-or-less', 'time-to-make', 'course...</td>\n",
              "      <td>[51.5, 0.0, 13.0, 0.0, 2.0, 0.0, 4.0]</td>\n",
              "      <td>11</td>\n",
              "      <td>['make a choice and proceed with recipe', 'dep...</td>\n",
              "      <td>autumn is my favorite time of year to cook! th...</td>\n",
              "      <td>['winter squash', 'mexican seasoning', 'mixed ...</td>\n",
              "      <td>7</td>\n",
              "    </tr>\n",
              "    <tr>\n",
              "      <th>1</th>\n",
              "      <td>a bit different  breakfast pizza</td>\n",
              "      <td>31490</td>\n",
              "      <td>30</td>\n",
              "      <td>26278</td>\n",
              "      <td>2002-06-17</td>\n",
              "      <td>['30-minutes-or-less', 'time-to-make', 'course...</td>\n",
              "      <td>[173.4, 18.0, 0.0, 17.0, 22.0, 35.0, 1.0]</td>\n",
              "      <td>9</td>\n",
              "      <td>['preheat oven to 425 degrees f', 'press dough...</td>\n",
              "      <td>this recipe calls for the crust to be prebaked...</td>\n",
              "      <td>['prepared pizza crust', 'sausage patty', 'egg...</td>\n",
              "      <td>6</td>\n",
              "    </tr>\n",
              "    <tr>\n",
              "      <th>2</th>\n",
              "      <td>all in the kitchen  chili</td>\n",
              "      <td>112140</td>\n",
              "      <td>130</td>\n",
              "      <td>196586</td>\n",
              "      <td>2005-02-25</td>\n",
              "      <td>['time-to-make', 'course', 'preparation', 'mai...</td>\n",
              "      <td>[269.8, 22.0, 32.0, 48.0, 39.0, 27.0, 5.0]</td>\n",
              "      <td>6</td>\n",
              "      <td>['brown ground beef in large pot', 'add choppe...</td>\n",
              "      <td>this modified version of 'mom's' chili was a h...</td>\n",
              "      <td>['ground beef', 'yellow onions', 'diced tomato...</td>\n",
              "      <td>13</td>\n",
              "    </tr>\n",
              "    <tr>\n",
              "      <th>3</th>\n",
              "      <td>alouette  potatoes</td>\n",
              "      <td>59389</td>\n",
              "      <td>45</td>\n",
              "      <td>68585</td>\n",
              "      <td>2003-04-14</td>\n",
              "      <td>['60-minutes-or-less', 'time-to-make', 'course...</td>\n",
              "      <td>[368.1, 17.0, 10.0, 2.0, 14.0, 8.0, 20.0]</td>\n",
              "      <td>11</td>\n",
              "      <td>['place potatoes in a large pot of lightly sal...</td>\n",
              "      <td>this is a super easy, great tasting, make ahea...</td>\n",
              "      <td>['spreadable cheese with garlic and herbs', 'n...</td>\n",
              "      <td>11</td>\n",
              "    </tr>\n",
              "    <tr>\n",
              "      <th>4</th>\n",
              "      <td>amish  tomato ketchup  for canning</td>\n",
              "      <td>44061</td>\n",
              "      <td>190</td>\n",
              "      <td>41706</td>\n",
              "      <td>2002-10-25</td>\n",
              "      <td>['weeknight', 'time-to-make', 'course', 'main-...</td>\n",
              "      <td>[352.9, 1.0, 337.0, 23.0, 3.0, 0.0, 28.0]</td>\n",
              "      <td>5</td>\n",
              "      <td>['mix all ingredients&amp; boil for 2 1 / 2 hours ...</td>\n",
              "      <td>my dh's amish mother raised him on this recipe...</td>\n",
              "      <td>['tomato juice', 'apple cider vinegar', 'sugar...</td>\n",
              "      <td>8</td>\n",
              "    </tr>\n",
              "  </tbody>\n",
              "</table>\n",
              "</div>\n",
              "      <button class=\"colab-df-convert\" onclick=\"convertToInteractive('df-339a55fb-574b-46c4-836a-9bbb645621af')\"\n",
              "              title=\"Convert this dataframe to an interactive table.\"\n",
              "              style=\"display:none;\">\n",
              "        \n",
              "  <svg xmlns=\"http://www.w3.org/2000/svg\" height=\"24px\"viewBox=\"0 0 24 24\"\n",
              "       width=\"24px\">\n",
              "    <path d=\"M0 0h24v24H0V0z\" fill=\"none\"/>\n",
              "    <path d=\"M18.56 5.44l.94 2.06.94-2.06 2.06-.94-2.06-.94-.94-2.06-.94 2.06-2.06.94zm-11 1L8.5 8.5l.94-2.06 2.06-.94-2.06-.94L8.5 2.5l-.94 2.06-2.06.94zm10 10l.94 2.06.94-2.06 2.06-.94-2.06-.94-.94-2.06-.94 2.06-2.06.94z\"/><path d=\"M17.41 7.96l-1.37-1.37c-.4-.4-.92-.59-1.43-.59-.52 0-1.04.2-1.43.59L10.3 9.45l-7.72 7.72c-.78.78-.78 2.05 0 2.83L4 21.41c.39.39.9.59 1.41.59.51 0 1.02-.2 1.41-.59l7.78-7.78 2.81-2.81c.8-.78.8-2.07 0-2.86zM5.41 20L4 18.59l7.72-7.72 1.47 1.35L5.41 20z\"/>\n",
              "  </svg>\n",
              "      </button>\n",
              "      \n",
              "  <style>\n",
              "    .colab-df-container {\n",
              "      display:flex;\n",
              "      flex-wrap:wrap;\n",
              "      gap: 12px;\n",
              "    }\n",
              "\n",
              "    .colab-df-convert {\n",
              "      background-color: #E8F0FE;\n",
              "      border: none;\n",
              "      border-radius: 50%;\n",
              "      cursor: pointer;\n",
              "      display: none;\n",
              "      fill: #1967D2;\n",
              "      height: 32px;\n",
              "      padding: 0 0 0 0;\n",
              "      width: 32px;\n",
              "    }\n",
              "\n",
              "    .colab-df-convert:hover {\n",
              "      background-color: #E2EBFA;\n",
              "      box-shadow: 0px 1px 2px rgba(60, 64, 67, 0.3), 0px 1px 3px 1px rgba(60, 64, 67, 0.15);\n",
              "      fill: #174EA6;\n",
              "    }\n",
              "\n",
              "    [theme=dark] .colab-df-convert {\n",
              "      background-color: #3B4455;\n",
              "      fill: #D2E3FC;\n",
              "    }\n",
              "\n",
              "    [theme=dark] .colab-df-convert:hover {\n",
              "      background-color: #434B5C;\n",
              "      box-shadow: 0px 1px 3px 1px rgba(0, 0, 0, 0.15);\n",
              "      filter: drop-shadow(0px 1px 2px rgba(0, 0, 0, 0.3));\n",
              "      fill: #FFFFFF;\n",
              "    }\n",
              "  </style>\n",
              "\n",
              "      <script>\n",
              "        const buttonEl =\n",
              "          document.querySelector('#df-339a55fb-574b-46c4-836a-9bbb645621af button.colab-df-convert');\n",
              "        buttonEl.style.display =\n",
              "          google.colab.kernel.accessAllowed ? 'block' : 'none';\n",
              "\n",
              "        async function convertToInteractive(key) {\n",
              "          const element = document.querySelector('#df-339a55fb-574b-46c4-836a-9bbb645621af');\n",
              "          const dataTable =\n",
              "            await google.colab.kernel.invokeFunction('convertToInteractive',\n",
              "                                                     [key], {});\n",
              "          if (!dataTable) return;\n",
              "\n",
              "          const docLinkHtml = 'Like what you see? Visit the ' +\n",
              "            '<a target=\"_blank\" href=https://colab.research.google.com/notebooks/data_table.ipynb>data table notebook</a>'\n",
              "            + ' to learn more about interactive tables.';\n",
              "          element.innerHTML = '';\n",
              "          dataTable['output_type'] = 'display_data';\n",
              "          await google.colab.output.renderOutput(dataTable, element);\n",
              "          const docLink = document.createElement('div');\n",
              "          docLink.innerHTML = docLinkHtml;\n",
              "          element.appendChild(docLink);\n",
              "        }\n",
              "      </script>\n",
              "    </div>\n",
              "  </div>\n",
              "  "
            ]
          },
          "metadata": {},
          "execution_count": 11
        }
      ]
    },
    {
      "cell_type": "code",
      "source": [
        "df_interactions.shape, df_recipes.shape"
      ],
      "metadata": {
        "colab": {
          "base_uri": "https://localhost:8080/"
        },
        "id": "r4RKBlI7kozv",
        "outputId": "91df56f9-a92f-4cb7-9cad-0160a699d799"
      },
      "execution_count": null,
      "outputs": [
        {
          "output_type": "execute_result",
          "data": {
            "text/plain": [
              "((1132367, 3), (231637, 12))"
            ]
          },
          "metadata": {},
          "execution_count": 12
        }
      ]
    },
    {
      "cell_type": "code",
      "source": [
        "df_food = pd.merge(df_interactions,df_recipes, right_on='id',left_on='recipe_id')"
      ],
      "metadata": {
        "id": "XVKeWzjIko1L"
      },
      "execution_count": null,
      "outputs": []
    },
    {
      "cell_type": "code",
      "source": [
        "df_food.head(5)"
      ],
      "metadata": {
        "colab": {
          "base_uri": "https://localhost:8080/",
          "height": 738
        },
        "id": "Iv26kw7-ko-O",
        "outputId": "ebf0bace-8f73-46fc-a26e-837d0a65e017"
      },
      "execution_count": null,
      "outputs": [
        {
          "output_type": "execute_result",
          "data": {
            "text/plain": [
              "   user_id  recipe_id  rating                                  name     id  \\\n",
              "0    38094      40893       4  white bean   green chile pepper soup  40893   \n",
              "1  1293707      40893       5  white bean   green chile pepper soup  40893   \n",
              "2     8937      44394       4      devilicious cookie cake delights  44394   \n",
              "3   126440      85009       5                 baked potato toppings  85009   \n",
              "4    57222      85009       5                 baked potato toppings  85009   \n",
              "\n",
              "   minutes  contributor_id   submitted  \\\n",
              "0      495            1533  2002-09-21   \n",
              "1      495            1533  2002-09-21   \n",
              "2       20           56824  2002-10-27   \n",
              "3       10           64342  2004-02-25   \n",
              "4       10           64342  2004-02-25   \n",
              "\n",
              "                                                tags  \\\n",
              "0  ['weeknight', 'time-to-make', 'course', 'main-...   \n",
              "1  ['weeknight', 'time-to-make', 'course', 'main-...   \n",
              "2  ['30-minutes-or-less', 'time-to-make', 'course...   \n",
              "3  ['15-minutes-or-less', 'time-to-make', 'course...   \n",
              "4  ['15-minutes-or-less', 'time-to-make', 'course...   \n",
              "\n",
              "                                           nutrition  n_steps  \\\n",
              "0           [204.8, 5.0, 9.0, 26.0, 24.0, 2.0, 10.0]        4   \n",
              "1           [204.8, 5.0, 9.0, 26.0, 24.0, 2.0, 10.0]        4   \n",
              "2           [132.3, 11.0, 39.0, 5.0, 4.0, 11.0, 5.0]        5   \n",
              "3  [2786.2, 342.0, 134.0, 290.0, 161.0, 301.0, 42.0]        3   \n",
              "4  [2786.2, 342.0, 134.0, 290.0, 161.0, 301.0, 42.0]        3   \n",
              "\n",
              "                                               steps  \\\n",
              "0  ['combine beans , onion , chilies , 1 / 2 teas...   \n",
              "1  ['combine beans , onion , chilies , 1 / 2 teas...   \n",
              "2  ['blend together cake mix , oil and eggs', 'ad...   \n",
              "3  ['pick whichever topping you want to use and c...   \n",
              "4  ['pick whichever topping you want to use and c...   \n",
              "\n",
              "                                         description  \\\n",
              "0                        easy soup for the crockpot.   \n",
              "1                        easy soup for the crockpot.   \n",
              "2                                                NaN   \n",
              "3  these toppings sure makes a nice change from p...   \n",
              "4  these toppings sure makes a nice change from p...   \n",
              "\n",
              "                                         ingredients  n_ingredients  \n",
              "0  ['great northern beans', 'yellow onion', 'dice...              9  \n",
              "1  ['great northern beans', 'yellow onion', 'dice...              9  \n",
              "2  [\"devil's food cake mix\", 'vegetable oil', 'eg...              4  \n",
              "3  ['mayonnaise', 'salsa', 'cheddar cheese', 'ref...             13  \n",
              "4  ['mayonnaise', 'salsa', 'cheddar cheese', 'ref...             13  "
            ],
            "text/html": [
              "\n",
              "  <div id=\"df-4ae911f0-af0f-466c-8c83-f3d0fa484ee4\">\n",
              "    <div class=\"colab-df-container\">\n",
              "      <div>\n",
              "<style scoped>\n",
              "    .dataframe tbody tr th:only-of-type {\n",
              "        vertical-align: middle;\n",
              "    }\n",
              "\n",
              "    .dataframe tbody tr th {\n",
              "        vertical-align: top;\n",
              "    }\n",
              "\n",
              "    .dataframe thead th {\n",
              "        text-align: right;\n",
              "    }\n",
              "</style>\n",
              "<table border=\"1\" class=\"dataframe\">\n",
              "  <thead>\n",
              "    <tr style=\"text-align: right;\">\n",
              "      <th></th>\n",
              "      <th>user_id</th>\n",
              "      <th>recipe_id</th>\n",
              "      <th>rating</th>\n",
              "      <th>name</th>\n",
              "      <th>id</th>\n",
              "      <th>minutes</th>\n",
              "      <th>contributor_id</th>\n",
              "      <th>submitted</th>\n",
              "      <th>tags</th>\n",
              "      <th>nutrition</th>\n",
              "      <th>n_steps</th>\n",
              "      <th>steps</th>\n",
              "      <th>description</th>\n",
              "      <th>ingredients</th>\n",
              "      <th>n_ingredients</th>\n",
              "    </tr>\n",
              "  </thead>\n",
              "  <tbody>\n",
              "    <tr>\n",
              "      <th>0</th>\n",
              "      <td>38094</td>\n",
              "      <td>40893</td>\n",
              "      <td>4</td>\n",
              "      <td>white bean   green chile pepper soup</td>\n",
              "      <td>40893</td>\n",
              "      <td>495</td>\n",
              "      <td>1533</td>\n",
              "      <td>2002-09-21</td>\n",
              "      <td>['weeknight', 'time-to-make', 'course', 'main-...</td>\n",
              "      <td>[204.8, 5.0, 9.0, 26.0, 24.0, 2.0, 10.0]</td>\n",
              "      <td>4</td>\n",
              "      <td>['combine beans , onion , chilies , 1 / 2 teas...</td>\n",
              "      <td>easy soup for the crockpot.</td>\n",
              "      <td>['great northern beans', 'yellow onion', 'dice...</td>\n",
              "      <td>9</td>\n",
              "    </tr>\n",
              "    <tr>\n",
              "      <th>1</th>\n",
              "      <td>1293707</td>\n",
              "      <td>40893</td>\n",
              "      <td>5</td>\n",
              "      <td>white bean   green chile pepper soup</td>\n",
              "      <td>40893</td>\n",
              "      <td>495</td>\n",
              "      <td>1533</td>\n",
              "      <td>2002-09-21</td>\n",
              "      <td>['weeknight', 'time-to-make', 'course', 'main-...</td>\n",
              "      <td>[204.8, 5.0, 9.0, 26.0, 24.0, 2.0, 10.0]</td>\n",
              "      <td>4</td>\n",
              "      <td>['combine beans , onion , chilies , 1 / 2 teas...</td>\n",
              "      <td>easy soup for the crockpot.</td>\n",
              "      <td>['great northern beans', 'yellow onion', 'dice...</td>\n",
              "      <td>9</td>\n",
              "    </tr>\n",
              "    <tr>\n",
              "      <th>2</th>\n",
              "      <td>8937</td>\n",
              "      <td>44394</td>\n",
              "      <td>4</td>\n",
              "      <td>devilicious cookie cake delights</td>\n",
              "      <td>44394</td>\n",
              "      <td>20</td>\n",
              "      <td>56824</td>\n",
              "      <td>2002-10-27</td>\n",
              "      <td>['30-minutes-or-less', 'time-to-make', 'course...</td>\n",
              "      <td>[132.3, 11.0, 39.0, 5.0, 4.0, 11.0, 5.0]</td>\n",
              "      <td>5</td>\n",
              "      <td>['blend together cake mix , oil and eggs', 'ad...</td>\n",
              "      <td>NaN</td>\n",
              "      <td>[\"devil's food cake mix\", 'vegetable oil', 'eg...</td>\n",
              "      <td>4</td>\n",
              "    </tr>\n",
              "    <tr>\n",
              "      <th>3</th>\n",
              "      <td>126440</td>\n",
              "      <td>85009</td>\n",
              "      <td>5</td>\n",
              "      <td>baked potato toppings</td>\n",
              "      <td>85009</td>\n",
              "      <td>10</td>\n",
              "      <td>64342</td>\n",
              "      <td>2004-02-25</td>\n",
              "      <td>['15-minutes-or-less', 'time-to-make', 'course...</td>\n",
              "      <td>[2786.2, 342.0, 134.0, 290.0, 161.0, 301.0, 42.0]</td>\n",
              "      <td>3</td>\n",
              "      <td>['pick whichever topping you want to use and c...</td>\n",
              "      <td>these toppings sure makes a nice change from p...</td>\n",
              "      <td>['mayonnaise', 'salsa', 'cheddar cheese', 'ref...</td>\n",
              "      <td>13</td>\n",
              "    </tr>\n",
              "    <tr>\n",
              "      <th>4</th>\n",
              "      <td>57222</td>\n",
              "      <td>85009</td>\n",
              "      <td>5</td>\n",
              "      <td>baked potato toppings</td>\n",
              "      <td>85009</td>\n",
              "      <td>10</td>\n",
              "      <td>64342</td>\n",
              "      <td>2004-02-25</td>\n",
              "      <td>['15-minutes-or-less', 'time-to-make', 'course...</td>\n",
              "      <td>[2786.2, 342.0, 134.0, 290.0, 161.0, 301.0, 42.0]</td>\n",
              "      <td>3</td>\n",
              "      <td>['pick whichever topping you want to use and c...</td>\n",
              "      <td>these toppings sure makes a nice change from p...</td>\n",
              "      <td>['mayonnaise', 'salsa', 'cheddar cheese', 'ref...</td>\n",
              "      <td>13</td>\n",
              "    </tr>\n",
              "  </tbody>\n",
              "</table>\n",
              "</div>\n",
              "      <button class=\"colab-df-convert\" onclick=\"convertToInteractive('df-4ae911f0-af0f-466c-8c83-f3d0fa484ee4')\"\n",
              "              title=\"Convert this dataframe to an interactive table.\"\n",
              "              style=\"display:none;\">\n",
              "        \n",
              "  <svg xmlns=\"http://www.w3.org/2000/svg\" height=\"24px\"viewBox=\"0 0 24 24\"\n",
              "       width=\"24px\">\n",
              "    <path d=\"M0 0h24v24H0V0z\" fill=\"none\"/>\n",
              "    <path d=\"M18.56 5.44l.94 2.06.94-2.06 2.06-.94-2.06-.94-.94-2.06-.94 2.06-2.06.94zm-11 1L8.5 8.5l.94-2.06 2.06-.94-2.06-.94L8.5 2.5l-.94 2.06-2.06.94zm10 10l.94 2.06.94-2.06 2.06-.94-2.06-.94-.94-2.06-.94 2.06-2.06.94z\"/><path d=\"M17.41 7.96l-1.37-1.37c-.4-.4-.92-.59-1.43-.59-.52 0-1.04.2-1.43.59L10.3 9.45l-7.72 7.72c-.78.78-.78 2.05 0 2.83L4 21.41c.39.39.9.59 1.41.59.51 0 1.02-.2 1.41-.59l7.78-7.78 2.81-2.81c.8-.78.8-2.07 0-2.86zM5.41 20L4 18.59l7.72-7.72 1.47 1.35L5.41 20z\"/>\n",
              "  </svg>\n",
              "      </button>\n",
              "      \n",
              "  <style>\n",
              "    .colab-df-container {\n",
              "      display:flex;\n",
              "      flex-wrap:wrap;\n",
              "      gap: 12px;\n",
              "    }\n",
              "\n",
              "    .colab-df-convert {\n",
              "      background-color: #E8F0FE;\n",
              "      border: none;\n",
              "      border-radius: 50%;\n",
              "      cursor: pointer;\n",
              "      display: none;\n",
              "      fill: #1967D2;\n",
              "      height: 32px;\n",
              "      padding: 0 0 0 0;\n",
              "      width: 32px;\n",
              "    }\n",
              "\n",
              "    .colab-df-convert:hover {\n",
              "      background-color: #E2EBFA;\n",
              "      box-shadow: 0px 1px 2px rgba(60, 64, 67, 0.3), 0px 1px 3px 1px rgba(60, 64, 67, 0.15);\n",
              "      fill: #174EA6;\n",
              "    }\n",
              "\n",
              "    [theme=dark] .colab-df-convert {\n",
              "      background-color: #3B4455;\n",
              "      fill: #D2E3FC;\n",
              "    }\n",
              "\n",
              "    [theme=dark] .colab-df-convert:hover {\n",
              "      background-color: #434B5C;\n",
              "      box-shadow: 0px 1px 3px 1px rgba(0, 0, 0, 0.15);\n",
              "      filter: drop-shadow(0px 1px 2px rgba(0, 0, 0, 0.3));\n",
              "      fill: #FFFFFF;\n",
              "    }\n",
              "  </style>\n",
              "\n",
              "      <script>\n",
              "        const buttonEl =\n",
              "          document.querySelector('#df-4ae911f0-af0f-466c-8c83-f3d0fa484ee4 button.colab-df-convert');\n",
              "        buttonEl.style.display =\n",
              "          google.colab.kernel.accessAllowed ? 'block' : 'none';\n",
              "\n",
              "        async function convertToInteractive(key) {\n",
              "          const element = document.querySelector('#df-4ae911f0-af0f-466c-8c83-f3d0fa484ee4');\n",
              "          const dataTable =\n",
              "            await google.colab.kernel.invokeFunction('convertToInteractive',\n",
              "                                                     [key], {});\n",
              "          if (!dataTable) return;\n",
              "\n",
              "          const docLinkHtml = 'Like what you see? Visit the ' +\n",
              "            '<a target=\"_blank\" href=https://colab.research.google.com/notebooks/data_table.ipynb>data table notebook</a>'\n",
              "            + ' to learn more about interactive tables.';\n",
              "          element.innerHTML = '';\n",
              "          dataTable['output_type'] = 'display_data';\n",
              "          await google.colab.output.renderOutput(dataTable, element);\n",
              "          const docLink = document.createElement('div');\n",
              "          docLink.innerHTML = docLinkHtml;\n",
              "          element.appendChild(docLink);\n",
              "        }\n",
              "      </script>\n",
              "    </div>\n",
              "  </div>\n",
              "  "
            ]
          },
          "metadata": {},
          "execution_count": 9
        }
      ]
    },
    {
      "cell_type": "code",
      "source": [
        "df_food.drop([\"submitted\",\"contributor_id\",\"id\"],axis=1,inplace=True)"
      ],
      "metadata": {
        "id": "g0Hkbny8kpKf"
      },
      "execution_count": null,
      "outputs": []
    },
    {
      "cell_type": "code",
      "source": [],
      "metadata": {
        "id": "aWTYg6sKkpSI"
      },
      "execution_count": null,
      "outputs": []
    },
    {
      "cell_type": "markdown",
      "source": [
        "## EDA"
      ],
      "metadata": {
        "id": "HP3yAlwyIEZI"
      }
    },
    {
      "cell_type": "code",
      "source": [
        "df_food.info()"
      ],
      "metadata": {
        "colab": {
          "base_uri": "https://localhost:8080/"
        },
        "id": "Nvs-R29Yziv_",
        "outputId": "042e69d2-6978-4a30-a7dc-539a5e3b28cc"
      },
      "execution_count": null,
      "outputs": [
        {
          "output_type": "stream",
          "name": "stdout",
          "text": [
            "<class 'pandas.core.frame.DataFrame'>\n",
            "Int64Index: 1132367 entries, 0 to 1132366\n",
            "Data columns (total 12 columns):\n",
            " #   Column         Non-Null Count    Dtype \n",
            "---  ------         --------------    ----- \n",
            " 0   user_id        1132367 non-null  int64 \n",
            " 1   recipe_id      1132367 non-null  int64 \n",
            " 2   rating         1132367 non-null  int64 \n",
            " 3   name           1132366 non-null  object\n",
            " 4   minutes        1132367 non-null  int64 \n",
            " 5   tags           1132367 non-null  object\n",
            " 6   nutrition      1132367 non-null  object\n",
            " 7   n_steps        1132367 non-null  int64 \n",
            " 8   steps          1132367 non-null  object\n",
            " 9   description    1108857 non-null  object\n",
            " 10  ingredients    1132367 non-null  object\n",
            " 11  n_ingredients  1132367 non-null  int64 \n",
            "dtypes: int64(6), object(6)\n",
            "memory usage: 112.3+ MB\n"
          ]
        }
      ]
    },
    {
      "cell_type": "code",
      "source": [
        "df_food.describe().T"
      ],
      "metadata": {
        "colab": {
          "base_uri": "https://localhost:8080/",
          "height": 237
        },
        "id": "j5YINsE5zvV2",
        "outputId": "839d4b3c-e9d9-49b5-9efd-79045213d54a"
      },
      "execution_count": null,
      "outputs": [
        {
          "output_type": "execute_result",
          "data": {
            "text/plain": [
              "                   count          mean           std     min       25%  \\\n",
              "user_id        1132367.0  1.384291e+08  5.014269e+08  1533.0  135470.0   \n",
              "recipe_id      1132367.0  1.608972e+05  1.303987e+05    38.0   54257.0   \n",
              "rating         1132367.0  4.411016e+00  1.264752e+00     0.0       4.0   \n",
              "minutes        1132367.0  3.614684e+04  8.796494e+06     0.0      20.0   \n",
              "n_steps        1132367.0  9.627970e+00  5.819689e+00     0.0       6.0   \n",
              "n_ingredients  1132367.0  8.952028e+00  3.689908e+00     1.0       6.0   \n",
              "\n",
              "                    50%       75%           max  \n",
              "user_id        330937.0  804550.0  2.002373e+09  \n",
              "recipe_id      120547.0  243852.0  5.377160e+05  \n",
              "rating              5.0       5.0  5.000000e+00  \n",
              "minutes            40.0      70.0  2.147484e+09  \n",
              "n_steps             8.0      12.0  1.450000e+02  \n",
              "n_ingredients       9.0      11.0  4.300000e+01  "
            ],
            "text/html": [
              "\n",
              "  <div id=\"df-8ab1b9fb-5617-4e72-bbd2-fe8ce8487f89\">\n",
              "    <div class=\"colab-df-container\">\n",
              "      <div>\n",
              "<style scoped>\n",
              "    .dataframe tbody tr th:only-of-type {\n",
              "        vertical-align: middle;\n",
              "    }\n",
              "\n",
              "    .dataframe tbody tr th {\n",
              "        vertical-align: top;\n",
              "    }\n",
              "\n",
              "    .dataframe thead th {\n",
              "        text-align: right;\n",
              "    }\n",
              "</style>\n",
              "<table border=\"1\" class=\"dataframe\">\n",
              "  <thead>\n",
              "    <tr style=\"text-align: right;\">\n",
              "      <th></th>\n",
              "      <th>count</th>\n",
              "      <th>mean</th>\n",
              "      <th>std</th>\n",
              "      <th>min</th>\n",
              "      <th>25%</th>\n",
              "      <th>50%</th>\n",
              "      <th>75%</th>\n",
              "      <th>max</th>\n",
              "    </tr>\n",
              "  </thead>\n",
              "  <tbody>\n",
              "    <tr>\n",
              "      <th>user_id</th>\n",
              "      <td>1132367.0</td>\n",
              "      <td>1.384291e+08</td>\n",
              "      <td>5.014269e+08</td>\n",
              "      <td>1533.0</td>\n",
              "      <td>135470.0</td>\n",
              "      <td>330937.0</td>\n",
              "      <td>804550.0</td>\n",
              "      <td>2.002373e+09</td>\n",
              "    </tr>\n",
              "    <tr>\n",
              "      <th>recipe_id</th>\n",
              "      <td>1132367.0</td>\n",
              "      <td>1.608972e+05</td>\n",
              "      <td>1.303987e+05</td>\n",
              "      <td>38.0</td>\n",
              "      <td>54257.0</td>\n",
              "      <td>120547.0</td>\n",
              "      <td>243852.0</td>\n",
              "      <td>5.377160e+05</td>\n",
              "    </tr>\n",
              "    <tr>\n",
              "      <th>rating</th>\n",
              "      <td>1132367.0</td>\n",
              "      <td>4.411016e+00</td>\n",
              "      <td>1.264752e+00</td>\n",
              "      <td>0.0</td>\n",
              "      <td>4.0</td>\n",
              "      <td>5.0</td>\n",
              "      <td>5.0</td>\n",
              "      <td>5.000000e+00</td>\n",
              "    </tr>\n",
              "    <tr>\n",
              "      <th>minutes</th>\n",
              "      <td>1132367.0</td>\n",
              "      <td>3.614684e+04</td>\n",
              "      <td>8.796494e+06</td>\n",
              "      <td>0.0</td>\n",
              "      <td>20.0</td>\n",
              "      <td>40.0</td>\n",
              "      <td>70.0</td>\n",
              "      <td>2.147484e+09</td>\n",
              "    </tr>\n",
              "    <tr>\n",
              "      <th>n_steps</th>\n",
              "      <td>1132367.0</td>\n",
              "      <td>9.627970e+00</td>\n",
              "      <td>5.819689e+00</td>\n",
              "      <td>0.0</td>\n",
              "      <td>6.0</td>\n",
              "      <td>8.0</td>\n",
              "      <td>12.0</td>\n",
              "      <td>1.450000e+02</td>\n",
              "    </tr>\n",
              "    <tr>\n",
              "      <th>n_ingredients</th>\n",
              "      <td>1132367.0</td>\n",
              "      <td>8.952028e+00</td>\n",
              "      <td>3.689908e+00</td>\n",
              "      <td>1.0</td>\n",
              "      <td>6.0</td>\n",
              "      <td>9.0</td>\n",
              "      <td>11.0</td>\n",
              "      <td>4.300000e+01</td>\n",
              "    </tr>\n",
              "  </tbody>\n",
              "</table>\n",
              "</div>\n",
              "      <button class=\"colab-df-convert\" onclick=\"convertToInteractive('df-8ab1b9fb-5617-4e72-bbd2-fe8ce8487f89')\"\n",
              "              title=\"Convert this dataframe to an interactive table.\"\n",
              "              style=\"display:none;\">\n",
              "        \n",
              "  <svg xmlns=\"http://www.w3.org/2000/svg\" height=\"24px\"viewBox=\"0 0 24 24\"\n",
              "       width=\"24px\">\n",
              "    <path d=\"M0 0h24v24H0V0z\" fill=\"none\"/>\n",
              "    <path d=\"M18.56 5.44l.94 2.06.94-2.06 2.06-.94-2.06-.94-.94-2.06-.94 2.06-2.06.94zm-11 1L8.5 8.5l.94-2.06 2.06-.94-2.06-.94L8.5 2.5l-.94 2.06-2.06.94zm10 10l.94 2.06.94-2.06 2.06-.94-2.06-.94-.94-2.06-.94 2.06-2.06.94z\"/><path d=\"M17.41 7.96l-1.37-1.37c-.4-.4-.92-.59-1.43-.59-.52 0-1.04.2-1.43.59L10.3 9.45l-7.72 7.72c-.78.78-.78 2.05 0 2.83L4 21.41c.39.39.9.59 1.41.59.51 0 1.02-.2 1.41-.59l7.78-7.78 2.81-2.81c.8-.78.8-2.07 0-2.86zM5.41 20L4 18.59l7.72-7.72 1.47 1.35L5.41 20z\"/>\n",
              "  </svg>\n",
              "      </button>\n",
              "      \n",
              "  <style>\n",
              "    .colab-df-container {\n",
              "      display:flex;\n",
              "      flex-wrap:wrap;\n",
              "      gap: 12px;\n",
              "    }\n",
              "\n",
              "    .colab-df-convert {\n",
              "      background-color: #E8F0FE;\n",
              "      border: none;\n",
              "      border-radius: 50%;\n",
              "      cursor: pointer;\n",
              "      display: none;\n",
              "      fill: #1967D2;\n",
              "      height: 32px;\n",
              "      padding: 0 0 0 0;\n",
              "      width: 32px;\n",
              "    }\n",
              "\n",
              "    .colab-df-convert:hover {\n",
              "      background-color: #E2EBFA;\n",
              "      box-shadow: 0px 1px 2px rgba(60, 64, 67, 0.3), 0px 1px 3px 1px rgba(60, 64, 67, 0.15);\n",
              "      fill: #174EA6;\n",
              "    }\n",
              "\n",
              "    [theme=dark] .colab-df-convert {\n",
              "      background-color: #3B4455;\n",
              "      fill: #D2E3FC;\n",
              "    }\n",
              "\n",
              "    [theme=dark] .colab-df-convert:hover {\n",
              "      background-color: #434B5C;\n",
              "      box-shadow: 0px 1px 3px 1px rgba(0, 0, 0, 0.15);\n",
              "      filter: drop-shadow(0px 1px 2px rgba(0, 0, 0, 0.3));\n",
              "      fill: #FFFFFF;\n",
              "    }\n",
              "  </style>\n",
              "\n",
              "      <script>\n",
              "        const buttonEl =\n",
              "          document.querySelector('#df-8ab1b9fb-5617-4e72-bbd2-fe8ce8487f89 button.colab-df-convert');\n",
              "        buttonEl.style.display =\n",
              "          google.colab.kernel.accessAllowed ? 'block' : 'none';\n",
              "\n",
              "        async function convertToInteractive(key) {\n",
              "          const element = document.querySelector('#df-8ab1b9fb-5617-4e72-bbd2-fe8ce8487f89');\n",
              "          const dataTable =\n",
              "            await google.colab.kernel.invokeFunction('convertToInteractive',\n",
              "                                                     [key], {});\n",
              "          if (!dataTable) return;\n",
              "\n",
              "          const docLinkHtml = 'Like what you see? Visit the ' +\n",
              "            '<a target=\"_blank\" href=https://colab.research.google.com/notebooks/data_table.ipynb>data table notebook</a>'\n",
              "            + ' to learn more about interactive tables.';\n",
              "          element.innerHTML = '';\n",
              "          dataTable['output_type'] = 'display_data';\n",
              "          await google.colab.output.renderOutput(dataTable, element);\n",
              "          const docLink = document.createElement('div');\n",
              "          docLink.innerHTML = docLinkHtml;\n",
              "          element.appendChild(docLink);\n",
              "        }\n",
              "      </script>\n",
              "    </div>\n",
              "  </div>\n",
              "  "
            ]
          },
          "metadata": {},
          "execution_count": 17
        }
      ]
    },
    {
      "cell_type": "code",
      "source": [
        "df_food.nunique()"
      ],
      "metadata": {
        "colab": {
          "base_uri": "https://localhost:8080/"
        },
        "id": "tUZE7eE9yjGN",
        "outputId": "7d340187-328c-4b72-ef18-41c30f10a049"
      },
      "execution_count": null,
      "outputs": [
        {
          "output_type": "execute_result",
          "data": {
            "text/plain": [
              "user_id          226570\n",
              "recipe_id        231637\n",
              "rating                6\n",
              "name             230185\n",
              "minutes             888\n",
              "tags             209115\n",
              "nutrition        229318\n",
              "n_steps              94\n",
              "steps            231074\n",
              "description      222668\n",
              "ingredients      230475\n",
              "n_ingredients        41\n",
              "dtype: int64"
            ]
          },
          "metadata": {},
          "execution_count": 18
        }
      ]
    },
    {
      "cell_type": "code",
      "source": [
        "df_food.user_id.value_counts()"
      ],
      "metadata": {
        "colab": {
          "base_uri": "https://localhost:8080/"
        },
        "id": "7XqicBLez9CZ",
        "outputId": "373ce182-7112-4ad3-9d34-553f75ecd702"
      },
      "execution_count": null,
      "outputs": [
        {
          "output_type": "execute_result",
          "data": {
            "text/plain": [
              "424680     7671\n",
              "37449      5603\n",
              "383346     4628\n",
              "169430     4076\n",
              "128473     3917\n",
              "           ... \n",
              "1443464       1\n",
              "872340        1\n",
              "431577        1\n",
              "1330356       1\n",
              "116593        1\n",
              "Name: user_id, Length: 226570, dtype: int64"
            ]
          },
          "metadata": {},
          "execution_count": 19
        }
      ]
    },
    {
      "cell_type": "code",
      "source": [
        "df_food.recipe_id.value_counts()"
      ],
      "metadata": {
        "colab": {
          "base_uri": "https://localhost:8080/"
        },
        "id": "qM1nPBge0MHw",
        "outputId": "85dec2e1-66a7-4fe6-d5f7-7cd93cd9f426"
      },
      "execution_count": null,
      "outputs": [
        {
          "output_type": "execute_result",
          "data": {
            "text/plain": [
              "2886      1613\n",
              "27208     1601\n",
              "89204     1579\n",
              "39087     1448\n",
              "67256     1322\n",
              "          ... \n",
              "155682       1\n",
              "154055       1\n",
              "252960       1\n",
              "144013       1\n",
              "386618       1\n",
              "Name: recipe_id, Length: 231637, dtype: int64"
            ]
          },
          "metadata": {},
          "execution_count": 20
        }
      ]
    },
    {
      "cell_type": "code",
      "source": [
        "df_food.rating.value_counts()"
      ],
      "metadata": {
        "colab": {
          "base_uri": "https://localhost:8080/"
        },
        "id": "d6UvNz060cvw",
        "outputId": "e657f98e-5e1a-4961-ce8d-7d01c128c8f9"
      },
      "execution_count": null,
      "outputs": [
        {
          "output_type": "execute_result",
          "data": {
            "text/plain": [
              "5    816364\n",
              "4    187360\n",
              "0     60847\n",
              "3     40855\n",
              "2     14123\n",
              "1     12818\n",
              "Name: rating, dtype: int64"
            ]
          },
          "metadata": {},
          "execution_count": 21
        }
      ]
    },
    {
      "cell_type": "markdown",
      "source": [
        "## Sampling"
      ],
      "metadata": {
        "id": "LGPV85C1vG02"
      }
    },
    {
      "cell_type": "code",
      "source": [
        "df_food.shape\n"
      ],
      "metadata": {
        "colab": {
          "base_uri": "https://localhost:8080/"
        },
        "id": "2K9ep4ur0HFb",
        "outputId": "115f7eb4-4748-454d-d951-524ac958dcb5"
      },
      "execution_count": null,
      "outputs": [
        {
          "output_type": "execute_result",
          "data": {
            "text/plain": [
              "(1132367, 12)"
            ]
          },
          "metadata": {},
          "execution_count": 10
        }
      ]
    },
    {
      "cell_type": "code",
      "source": [
        "df_food.isnull().sum()"
      ],
      "metadata": {
        "colab": {
          "base_uri": "https://localhost:8080/"
        },
        "id": "ftTZrbZq0MzQ",
        "outputId": "fd6fd146-836b-4bb6-9d33-602cc5ed0639"
      },
      "execution_count": null,
      "outputs": [
        {
          "output_type": "execute_result",
          "data": {
            "text/plain": [
              "user_id               0\n",
              "recipe_id             0\n",
              "rating                0\n",
              "name                  1\n",
              "id                    0\n",
              "minutes               0\n",
              "contributor_id        0\n",
              "submitted             0\n",
              "tags                  0\n",
              "nutrition             0\n",
              "n_steps               0\n",
              "steps                 0\n",
              "description       23510\n",
              "ingredients           0\n",
              "n_ingredients         0\n",
              "dtype: int64"
            ]
          },
          "metadata": {},
          "execution_count": 17
        }
      ]
    },
    {
      "cell_type": "code",
      "source": [
        "df_food.isna().sum()"
      ],
      "metadata": {
        "colab": {
          "base_uri": "https://localhost:8080/"
        },
        "id": "lroSzpR552tk",
        "outputId": "dc7db52f-25f0-4106-e808-7fed99921ae5"
      },
      "execution_count": null,
      "outputs": [
        {
          "output_type": "execute_result",
          "data": {
            "text/plain": [
              "user_id               0\n",
              "recipe_id             0\n",
              "rating                0\n",
              "name                  1\n",
              "id                    0\n",
              "minutes               0\n",
              "contributor_id        0\n",
              "submitted             0\n",
              "tags                  0\n",
              "nutrition             0\n",
              "n_steps               0\n",
              "steps                 0\n",
              "description       23510\n",
              "ingredients           0\n",
              "n_ingredients         0\n",
              "dtype: int64"
            ]
          },
          "metadata": {},
          "execution_count": 20
        }
      ]
    },
    {
      "cell_type": "code",
      "source": [
        "df_food1 = df_food.sample(frac=.01)"
      ],
      "metadata": {
        "id": "0fi6pHIF0Xba"
      },
      "execution_count": null,
      "outputs": []
    },
    {
      "cell_type": "code",
      "source": [
        "df_food1.shape"
      ],
      "metadata": {
        "colab": {
          "base_uri": "https://localhost:8080/"
        },
        "id": "Iha2C4wSBJXH",
        "outputId": "6493b9ea-351a-41ed-d6e8-938ead44ee06"
      },
      "execution_count": null,
      "outputs": [
        {
          "output_type": "execute_result",
          "data": {
            "text/plain": [
              "(11324, 12)"
            ]
          },
          "metadata": {},
          "execution_count": 12
        }
      ]
    },
    {
      "cell_type": "markdown",
      "source": [
        "## Recommendations using KNearestNeighbors method"
      ],
      "metadata": {
        "id": "0XQz8fwW5ebd"
      }
    },
    {
      "cell_type": "code",
      "source": [
        "df_pre = pd.DataFrame(df_food1.groupby(['user_id', 'recipe_id'])['rating'].mean())\n",
        "df_pre.reset_index(inplace=True)"
      ],
      "metadata": {
        "id": "Q2JD-Xo60XPz"
      },
      "execution_count": null,
      "outputs": []
    },
    {
      "cell_type": "code",
      "source": [
        "df_pre.head()"
      ],
      "metadata": {
        "colab": {
          "base_uri": "https://localhost:8080/",
          "height": 206
        },
        "id": "EEyWqYlN4lKB",
        "outputId": "788bab60-ed8a-47f3-92c2-7acb0e44a142"
      },
      "execution_count": null,
      "outputs": [
        {
          "output_type": "execute_result",
          "data": {
            "text/plain": [
              "   user_id  recipe_id  rating\n",
              "0     1533      28484     5.0\n",
              "1     1535      26249     4.0\n",
              "2     1535      28075     3.0\n",
              "3     1535      29844     4.0\n",
              "4     1535      37318     5.0"
            ],
            "text/html": [
              "\n",
              "  <div id=\"df-f4c6efd2-e99d-4106-b295-4b1528896723\">\n",
              "    <div class=\"colab-df-container\">\n",
              "      <div>\n",
              "<style scoped>\n",
              "    .dataframe tbody tr th:only-of-type {\n",
              "        vertical-align: middle;\n",
              "    }\n",
              "\n",
              "    .dataframe tbody tr th {\n",
              "        vertical-align: top;\n",
              "    }\n",
              "\n",
              "    .dataframe thead th {\n",
              "        text-align: right;\n",
              "    }\n",
              "</style>\n",
              "<table border=\"1\" class=\"dataframe\">\n",
              "  <thead>\n",
              "    <tr style=\"text-align: right;\">\n",
              "      <th></th>\n",
              "      <th>user_id</th>\n",
              "      <th>recipe_id</th>\n",
              "      <th>rating</th>\n",
              "    </tr>\n",
              "  </thead>\n",
              "  <tbody>\n",
              "    <tr>\n",
              "      <th>0</th>\n",
              "      <td>1533</td>\n",
              "      <td>28484</td>\n",
              "      <td>5.0</td>\n",
              "    </tr>\n",
              "    <tr>\n",
              "      <th>1</th>\n",
              "      <td>1535</td>\n",
              "      <td>26249</td>\n",
              "      <td>4.0</td>\n",
              "    </tr>\n",
              "    <tr>\n",
              "      <th>2</th>\n",
              "      <td>1535</td>\n",
              "      <td>28075</td>\n",
              "      <td>3.0</td>\n",
              "    </tr>\n",
              "    <tr>\n",
              "      <th>3</th>\n",
              "      <td>1535</td>\n",
              "      <td>29844</td>\n",
              "      <td>4.0</td>\n",
              "    </tr>\n",
              "    <tr>\n",
              "      <th>4</th>\n",
              "      <td>1535</td>\n",
              "      <td>37318</td>\n",
              "      <td>5.0</td>\n",
              "    </tr>\n",
              "  </tbody>\n",
              "</table>\n",
              "</div>\n",
              "      <button class=\"colab-df-convert\" onclick=\"convertToInteractive('df-f4c6efd2-e99d-4106-b295-4b1528896723')\"\n",
              "              title=\"Convert this dataframe to an interactive table.\"\n",
              "              style=\"display:none;\">\n",
              "        \n",
              "  <svg xmlns=\"http://www.w3.org/2000/svg\" height=\"24px\"viewBox=\"0 0 24 24\"\n",
              "       width=\"24px\">\n",
              "    <path d=\"M0 0h24v24H0V0z\" fill=\"none\"/>\n",
              "    <path d=\"M18.56 5.44l.94 2.06.94-2.06 2.06-.94-2.06-.94-.94-2.06-.94 2.06-2.06.94zm-11 1L8.5 8.5l.94-2.06 2.06-.94-2.06-.94L8.5 2.5l-.94 2.06-2.06.94zm10 10l.94 2.06.94-2.06 2.06-.94-2.06-.94-.94-2.06-.94 2.06-2.06.94z\"/><path d=\"M17.41 7.96l-1.37-1.37c-.4-.4-.92-.59-1.43-.59-.52 0-1.04.2-1.43.59L10.3 9.45l-7.72 7.72c-.78.78-.78 2.05 0 2.83L4 21.41c.39.39.9.59 1.41.59.51 0 1.02-.2 1.41-.59l7.78-7.78 2.81-2.81c.8-.78.8-2.07 0-2.86zM5.41 20L4 18.59l7.72-7.72 1.47 1.35L5.41 20z\"/>\n",
              "  </svg>\n",
              "      </button>\n",
              "      \n",
              "  <style>\n",
              "    .colab-df-container {\n",
              "      display:flex;\n",
              "      flex-wrap:wrap;\n",
              "      gap: 12px;\n",
              "    }\n",
              "\n",
              "    .colab-df-convert {\n",
              "      background-color: #E8F0FE;\n",
              "      border: none;\n",
              "      border-radius: 50%;\n",
              "      cursor: pointer;\n",
              "      display: none;\n",
              "      fill: #1967D2;\n",
              "      height: 32px;\n",
              "      padding: 0 0 0 0;\n",
              "      width: 32px;\n",
              "    }\n",
              "\n",
              "    .colab-df-convert:hover {\n",
              "      background-color: #E2EBFA;\n",
              "      box-shadow: 0px 1px 2px rgba(60, 64, 67, 0.3), 0px 1px 3px 1px rgba(60, 64, 67, 0.15);\n",
              "      fill: #174EA6;\n",
              "    }\n",
              "\n",
              "    [theme=dark] .colab-df-convert {\n",
              "      background-color: #3B4455;\n",
              "      fill: #D2E3FC;\n",
              "    }\n",
              "\n",
              "    [theme=dark] .colab-df-convert:hover {\n",
              "      background-color: #434B5C;\n",
              "      box-shadow: 0px 1px 3px 1px rgba(0, 0, 0, 0.15);\n",
              "      filter: drop-shadow(0px 1px 2px rgba(0, 0, 0, 0.3));\n",
              "      fill: #FFFFFF;\n",
              "    }\n",
              "  </style>\n",
              "\n",
              "      <script>\n",
              "        const buttonEl =\n",
              "          document.querySelector('#df-f4c6efd2-e99d-4106-b295-4b1528896723 button.colab-df-convert');\n",
              "        buttonEl.style.display =\n",
              "          google.colab.kernel.accessAllowed ? 'block' : 'none';\n",
              "\n",
              "        async function convertToInteractive(key) {\n",
              "          const element = document.querySelector('#df-f4c6efd2-e99d-4106-b295-4b1528896723');\n",
              "          const dataTable =\n",
              "            await google.colab.kernel.invokeFunction('convertToInteractive',\n",
              "                                                     [key], {});\n",
              "          if (!dataTable) return;\n",
              "\n",
              "          const docLinkHtml = 'Like what you see? Visit the ' +\n",
              "            '<a target=\"_blank\" href=https://colab.research.google.com/notebooks/data_table.ipynb>data table notebook</a>'\n",
              "            + ' to learn more about interactive tables.';\n",
              "          element.innerHTML = '';\n",
              "          dataTable['output_type'] = 'display_data';\n",
              "          await google.colab.output.renderOutput(dataTable, element);\n",
              "          const docLink = document.createElement('div');\n",
              "          docLink.innerHTML = docLinkHtml;\n",
              "          element.appendChild(docLink);\n",
              "        }\n",
              "      </script>\n",
              "    </div>\n",
              "  </div>\n",
              "  "
            ]
          },
          "metadata": {},
          "execution_count": 27
        }
      ]
    },
    {
      "cell_type": "code",
      "source": [
        "df_pre.isnull().sum()"
      ],
      "metadata": {
        "colab": {
          "base_uri": "https://localhost:8080/"
        },
        "id": "U2J8EwR80Xfz",
        "outputId": "9ad425ac-e846-4df7-ae98-85556d32063d"
      },
      "execution_count": null,
      "outputs": [
        {
          "output_type": "execute_result",
          "data": {
            "text/plain": [
              "user_id      0\n",
              "recipe_id    0\n",
              "rating       0\n",
              "dtype: int64"
            ]
          },
          "metadata": {},
          "execution_count": 28
        }
      ]
    },
    {
      "cell_type": "code",
      "source": [
        "df_pre.dtypes"
      ],
      "metadata": {
        "colab": {
          "base_uri": "https://localhost:8080/"
        },
        "id": "n49kbEK70Xj4",
        "outputId": "e016b7d7-57a5-4252-d636-be663ab09a3c"
      },
      "execution_count": null,
      "outputs": [
        {
          "output_type": "execute_result",
          "data": {
            "text/plain": [
              "user_id        int64\n",
              "recipe_id      int64\n",
              "rating       float64\n",
              "dtype: object"
            ]
          },
          "metadata": {},
          "execution_count": 29
        }
      ]
    },
    {
      "cell_type": "code",
      "source": [
        "df_pre.shape"
      ],
      "metadata": {
        "colab": {
          "base_uri": "https://localhost:8080/"
        },
        "id": "jSQ9gO330Xn0",
        "outputId": "72f81682-1238-4af8-c619-d9c346812bf6"
      },
      "execution_count": null,
      "outputs": [
        {
          "output_type": "execute_result",
          "data": {
            "text/plain": [
              "(22647, 3)"
            ]
          },
          "metadata": {},
          "execution_count": 30
        }
      ]
    },
    {
      "cell_type": "code",
      "source": [
        "df_pre.isna().sum()"
      ],
      "metadata": {
        "colab": {
          "base_uri": "https://localhost:8080/"
        },
        "id": "UdxpXSyT0XrH",
        "outputId": "4a0d0b78-2336-4bfb-d6bb-c1a042ef96d8"
      },
      "execution_count": null,
      "outputs": [
        {
          "output_type": "execute_result",
          "data": {
            "text/plain": [
              "user_id      0\n",
              "recipe_id    0\n",
              "rating       0\n",
              "dtype: int64"
            ]
          },
          "metadata": {},
          "execution_count": 31
        }
      ]
    },
    {
      "cell_type": "code",
      "source": [
        "df_KNN = df_pre.pivot(index='recipe_id',columns='user_id',values='rating').fillna(0)\n"
      ],
      "metadata": {
        "id": "AjUZXT2T0XuT"
      },
      "execution_count": null,
      "outputs": []
    },
    {
      "cell_type": "code",
      "source": [
        "df_KNN.head()"
      ],
      "metadata": {
        "colab": {
          "base_uri": "https://localhost:8080/",
          "height": 331
        },
        "id": "PZWSc9Ca0Xxa",
        "outputId": "a12def0a-051c-4747-fc21-8e5b7b6b325f"
      },
      "execution_count": null,
      "outputs": [
        {
          "output_type": "execute_result",
          "data": {
            "text/plain": [
              "user_id    1533        1535        1634        1676        1891        \\\n",
              "recipe_id                                                               \n",
              "49                0.0         0.0         0.0         0.0         0.0   \n",
              "62                0.0         0.0         0.0         0.0         0.0   \n",
              "187               0.0         0.0         0.0         0.0         0.0   \n",
              "191               0.0         0.0         0.0         0.0         0.0   \n",
              "198               0.0         0.0         0.0         0.0         0.0   \n",
              "\n",
              "user_id    2178        2310        2312        2586        2695        ...  \\\n",
              "recipe_id                                                              ...   \n",
              "49                0.0         0.0         0.0         0.0         0.0  ...   \n",
              "62                0.0         0.0         0.0         0.0         0.0  ...   \n",
              "187               0.0         0.0         0.0         0.0         0.0  ...   \n",
              "191               0.0         0.0         0.0         0.0         0.0  ...   \n",
              "198               0.0         0.0         0.0         0.0         0.0  ...   \n",
              "\n",
              "user_id    2002346966  2002347570  2002348301  2002354775  2002355997  \\\n",
              "recipe_id                                                               \n",
              "49                0.0         0.0         0.0         0.0         0.0   \n",
              "62                0.0         0.0         0.0         0.0         0.0   \n",
              "187               0.0         0.0         0.0         0.0         0.0   \n",
              "191               0.0         0.0         0.0         0.0         0.0   \n",
              "198               0.0         0.0         0.0         0.0         0.0   \n",
              "\n",
              "user_id    2002360118  2002365431  2002365848  2002366687  2002372706  \n",
              "recipe_id                                                              \n",
              "49                0.0         0.0         0.0         0.0         0.0  \n",
              "62                0.0         0.0         0.0         0.0         0.0  \n",
              "187               0.0         0.0         0.0         0.0         0.0  \n",
              "191               0.0         0.0         0.0         0.0         0.0  \n",
              "198               0.0         0.0         0.0         0.0         0.0  \n",
              "\n",
              "[5 rows x 11927 columns]"
            ],
            "text/html": [
              "\n",
              "  <div id=\"df-92f2740e-2ac0-432f-9821-9dabc4ae8e20\">\n",
              "    <div class=\"colab-df-container\">\n",
              "      <div>\n",
              "<style scoped>\n",
              "    .dataframe tbody tr th:only-of-type {\n",
              "        vertical-align: middle;\n",
              "    }\n",
              "\n",
              "    .dataframe tbody tr th {\n",
              "        vertical-align: top;\n",
              "    }\n",
              "\n",
              "    .dataframe thead th {\n",
              "        text-align: right;\n",
              "    }\n",
              "</style>\n",
              "<table border=\"1\" class=\"dataframe\">\n",
              "  <thead>\n",
              "    <tr style=\"text-align: right;\">\n",
              "      <th>user_id</th>\n",
              "      <th>1533</th>\n",
              "      <th>1535</th>\n",
              "      <th>1634</th>\n",
              "      <th>1676</th>\n",
              "      <th>1891</th>\n",
              "      <th>2178</th>\n",
              "      <th>2310</th>\n",
              "      <th>2312</th>\n",
              "      <th>2586</th>\n",
              "      <th>2695</th>\n",
              "      <th>...</th>\n",
              "      <th>2002346966</th>\n",
              "      <th>2002347570</th>\n",
              "      <th>2002348301</th>\n",
              "      <th>2002354775</th>\n",
              "      <th>2002355997</th>\n",
              "      <th>2002360118</th>\n",
              "      <th>2002365431</th>\n",
              "      <th>2002365848</th>\n",
              "      <th>2002366687</th>\n",
              "      <th>2002372706</th>\n",
              "    </tr>\n",
              "    <tr>\n",
              "      <th>recipe_id</th>\n",
              "      <th></th>\n",
              "      <th></th>\n",
              "      <th></th>\n",
              "      <th></th>\n",
              "      <th></th>\n",
              "      <th></th>\n",
              "      <th></th>\n",
              "      <th></th>\n",
              "      <th></th>\n",
              "      <th></th>\n",
              "      <th></th>\n",
              "      <th></th>\n",
              "      <th></th>\n",
              "      <th></th>\n",
              "      <th></th>\n",
              "      <th></th>\n",
              "      <th></th>\n",
              "      <th></th>\n",
              "      <th></th>\n",
              "      <th></th>\n",
              "      <th></th>\n",
              "    </tr>\n",
              "  </thead>\n",
              "  <tbody>\n",
              "    <tr>\n",
              "      <th>49</th>\n",
              "      <td>0.0</td>\n",
              "      <td>0.0</td>\n",
              "      <td>0.0</td>\n",
              "      <td>0.0</td>\n",
              "      <td>0.0</td>\n",
              "      <td>0.0</td>\n",
              "      <td>0.0</td>\n",
              "      <td>0.0</td>\n",
              "      <td>0.0</td>\n",
              "      <td>0.0</td>\n",
              "      <td>...</td>\n",
              "      <td>0.0</td>\n",
              "      <td>0.0</td>\n",
              "      <td>0.0</td>\n",
              "      <td>0.0</td>\n",
              "      <td>0.0</td>\n",
              "      <td>0.0</td>\n",
              "      <td>0.0</td>\n",
              "      <td>0.0</td>\n",
              "      <td>0.0</td>\n",
              "      <td>0.0</td>\n",
              "    </tr>\n",
              "    <tr>\n",
              "      <th>62</th>\n",
              "      <td>0.0</td>\n",
              "      <td>0.0</td>\n",
              "      <td>0.0</td>\n",
              "      <td>0.0</td>\n",
              "      <td>0.0</td>\n",
              "      <td>0.0</td>\n",
              "      <td>0.0</td>\n",
              "      <td>0.0</td>\n",
              "      <td>0.0</td>\n",
              "      <td>0.0</td>\n",
              "      <td>...</td>\n",
              "      <td>0.0</td>\n",
              "      <td>0.0</td>\n",
              "      <td>0.0</td>\n",
              "      <td>0.0</td>\n",
              "      <td>0.0</td>\n",
              "      <td>0.0</td>\n",
              "      <td>0.0</td>\n",
              "      <td>0.0</td>\n",
              "      <td>0.0</td>\n",
              "      <td>0.0</td>\n",
              "    </tr>\n",
              "    <tr>\n",
              "      <th>187</th>\n",
              "      <td>0.0</td>\n",
              "      <td>0.0</td>\n",
              "      <td>0.0</td>\n",
              "      <td>0.0</td>\n",
              "      <td>0.0</td>\n",
              "      <td>0.0</td>\n",
              "      <td>0.0</td>\n",
              "      <td>0.0</td>\n",
              "      <td>0.0</td>\n",
              "      <td>0.0</td>\n",
              "      <td>...</td>\n",
              "      <td>0.0</td>\n",
              "      <td>0.0</td>\n",
              "      <td>0.0</td>\n",
              "      <td>0.0</td>\n",
              "      <td>0.0</td>\n",
              "      <td>0.0</td>\n",
              "      <td>0.0</td>\n",
              "      <td>0.0</td>\n",
              "      <td>0.0</td>\n",
              "      <td>0.0</td>\n",
              "    </tr>\n",
              "    <tr>\n",
              "      <th>191</th>\n",
              "      <td>0.0</td>\n",
              "      <td>0.0</td>\n",
              "      <td>0.0</td>\n",
              "      <td>0.0</td>\n",
              "      <td>0.0</td>\n",
              "      <td>0.0</td>\n",
              "      <td>0.0</td>\n",
              "      <td>0.0</td>\n",
              "      <td>0.0</td>\n",
              "      <td>0.0</td>\n",
              "      <td>...</td>\n",
              "      <td>0.0</td>\n",
              "      <td>0.0</td>\n",
              "      <td>0.0</td>\n",
              "      <td>0.0</td>\n",
              "      <td>0.0</td>\n",
              "      <td>0.0</td>\n",
              "      <td>0.0</td>\n",
              "      <td>0.0</td>\n",
              "      <td>0.0</td>\n",
              "      <td>0.0</td>\n",
              "    </tr>\n",
              "    <tr>\n",
              "      <th>198</th>\n",
              "      <td>0.0</td>\n",
              "      <td>0.0</td>\n",
              "      <td>0.0</td>\n",
              "      <td>0.0</td>\n",
              "      <td>0.0</td>\n",
              "      <td>0.0</td>\n",
              "      <td>0.0</td>\n",
              "      <td>0.0</td>\n",
              "      <td>0.0</td>\n",
              "      <td>0.0</td>\n",
              "      <td>...</td>\n",
              "      <td>0.0</td>\n",
              "      <td>0.0</td>\n",
              "      <td>0.0</td>\n",
              "      <td>0.0</td>\n",
              "      <td>0.0</td>\n",
              "      <td>0.0</td>\n",
              "      <td>0.0</td>\n",
              "      <td>0.0</td>\n",
              "      <td>0.0</td>\n",
              "      <td>0.0</td>\n",
              "    </tr>\n",
              "  </tbody>\n",
              "</table>\n",
              "<p>5 rows × 11927 columns</p>\n",
              "</div>\n",
              "      <button class=\"colab-df-convert\" onclick=\"convertToInteractive('df-92f2740e-2ac0-432f-9821-9dabc4ae8e20')\"\n",
              "              title=\"Convert this dataframe to an interactive table.\"\n",
              "              style=\"display:none;\">\n",
              "        \n",
              "  <svg xmlns=\"http://www.w3.org/2000/svg\" height=\"24px\"viewBox=\"0 0 24 24\"\n",
              "       width=\"24px\">\n",
              "    <path d=\"M0 0h24v24H0V0z\" fill=\"none\"/>\n",
              "    <path d=\"M18.56 5.44l.94 2.06.94-2.06 2.06-.94-2.06-.94-.94-2.06-.94 2.06-2.06.94zm-11 1L8.5 8.5l.94-2.06 2.06-.94-2.06-.94L8.5 2.5l-.94 2.06-2.06.94zm10 10l.94 2.06.94-2.06 2.06-.94-2.06-.94-.94-2.06-.94 2.06-2.06.94z\"/><path d=\"M17.41 7.96l-1.37-1.37c-.4-.4-.92-.59-1.43-.59-.52 0-1.04.2-1.43.59L10.3 9.45l-7.72 7.72c-.78.78-.78 2.05 0 2.83L4 21.41c.39.39.9.59 1.41.59.51 0 1.02-.2 1.41-.59l7.78-7.78 2.81-2.81c.8-.78.8-2.07 0-2.86zM5.41 20L4 18.59l7.72-7.72 1.47 1.35L5.41 20z\"/>\n",
              "  </svg>\n",
              "      </button>\n",
              "      \n",
              "  <style>\n",
              "    .colab-df-container {\n",
              "      display:flex;\n",
              "      flex-wrap:wrap;\n",
              "      gap: 12px;\n",
              "    }\n",
              "\n",
              "    .colab-df-convert {\n",
              "      background-color: #E8F0FE;\n",
              "      border: none;\n",
              "      border-radius: 50%;\n",
              "      cursor: pointer;\n",
              "      display: none;\n",
              "      fill: #1967D2;\n",
              "      height: 32px;\n",
              "      padding: 0 0 0 0;\n",
              "      width: 32px;\n",
              "    }\n",
              "\n",
              "    .colab-df-convert:hover {\n",
              "      background-color: #E2EBFA;\n",
              "      box-shadow: 0px 1px 2px rgba(60, 64, 67, 0.3), 0px 1px 3px 1px rgba(60, 64, 67, 0.15);\n",
              "      fill: #174EA6;\n",
              "    }\n",
              "\n",
              "    [theme=dark] .colab-df-convert {\n",
              "      background-color: #3B4455;\n",
              "      fill: #D2E3FC;\n",
              "    }\n",
              "\n",
              "    [theme=dark] .colab-df-convert:hover {\n",
              "      background-color: #434B5C;\n",
              "      box-shadow: 0px 1px 3px 1px rgba(0, 0, 0, 0.15);\n",
              "      filter: drop-shadow(0px 1px 2px rgba(0, 0, 0, 0.3));\n",
              "      fill: #FFFFFF;\n",
              "    }\n",
              "  </style>\n",
              "\n",
              "      <script>\n",
              "        const buttonEl =\n",
              "          document.querySelector('#df-92f2740e-2ac0-432f-9821-9dabc4ae8e20 button.colab-df-convert');\n",
              "        buttonEl.style.display =\n",
              "          google.colab.kernel.accessAllowed ? 'block' : 'none';\n",
              "\n",
              "        async function convertToInteractive(key) {\n",
              "          const element = document.querySelector('#df-92f2740e-2ac0-432f-9821-9dabc4ae8e20');\n",
              "          const dataTable =\n",
              "            await google.colab.kernel.invokeFunction('convertToInteractive',\n",
              "                                                     [key], {});\n",
              "          if (!dataTable) return;\n",
              "\n",
              "          const docLinkHtml = 'Like what you see? Visit the ' +\n",
              "            '<a target=\"_blank\" href=https://colab.research.google.com/notebooks/data_table.ipynb>data table notebook</a>'\n",
              "            + ' to learn more about interactive tables.';\n",
              "          element.innerHTML = '';\n",
              "          dataTable['output_type'] = 'display_data';\n",
              "          await google.colab.output.renderOutput(dataTable, element);\n",
              "          const docLink = document.createElement('div');\n",
              "          docLink.innerHTML = docLinkHtml;\n",
              "          element.appendChild(docLink);\n",
              "        }\n",
              "      </script>\n",
              "    </div>\n",
              "  </div>\n",
              "  "
            ]
          },
          "metadata": {},
          "execution_count": 33
        }
      ]
    },
    {
      "cell_type": "code",
      "source": [
        "df_KNN.shape"
      ],
      "metadata": {
        "colab": {
          "base_uri": "https://localhost:8080/"
        },
        "id": "15htNbsw0Xy7",
        "outputId": "1cd2f416-b3c3-4532-fef6-a5b5a8bfd953"
      },
      "execution_count": null,
      "outputs": [
        {
          "output_type": "execute_result",
          "data": {
            "text/plain": [
              "(17788, 11927)"
            ]
          },
          "metadata": {},
          "execution_count": 34
        }
      ]
    },
    {
      "cell_type": "code",
      "source": [
        "from scipy.sparse import csr_matrix"
      ],
      "metadata": {
        "id": "GiFDjCA70X09"
      },
      "execution_count": null,
      "outputs": []
    },
    {
      "cell_type": "code",
      "source": [
        "df_KNN_sparse = csr_matrix(df_KNN.values)"
      ],
      "metadata": {
        "id": "8gt_icgP0X3w"
      },
      "execution_count": null,
      "outputs": []
    },
    {
      "cell_type": "code",
      "source": [
        "from sklearn.neighbors import NearestNeighbors"
      ],
      "metadata": {
        "id": "st2ny0l40X6x"
      },
      "execution_count": null,
      "outputs": []
    },
    {
      "cell_type": "code",
      "source": [
        "model_knn = NearestNeighbors(metric='cosine',algorithm='brute')"
      ],
      "metadata": {
        "id": "1yFi-ccj0X98"
      },
      "execution_count": null,
      "outputs": []
    },
    {
      "cell_type": "code",
      "source": [
        "model_knn.fit(df_KNN_sparse)"
      ],
      "metadata": {
        "colab": {
          "base_uri": "https://localhost:8080/"
        },
        "id": "lXAHnzuK0YBd",
        "outputId": "05580527-745b-4756-c756-d60d3f74f50a"
      },
      "execution_count": null,
      "outputs": [
        {
          "output_type": "execute_result",
          "data": {
            "text/plain": [
              "NearestNeighbors(algorithm='brute', metric='cosine')"
            ]
          },
          "metadata": {},
          "execution_count": 39
        }
      ]
    },
    {
      "cell_type": "code",
      "source": [
        "query_index = np.random.choice(df_KNN.shape[0])\n",
        "recipe_sample = df_KNN.index[query_index]"
      ],
      "metadata": {
        "id": "5okws0_h0YFP"
      },
      "execution_count": null,
      "outputs": []
    },
    {
      "cell_type": "code",
      "source": [
        "distances, indices = model_knn.kneighbors(df_KNN.iloc[query_index,:].values.reshape(1,-1),n_neighbors=10)"
      ],
      "metadata": {
        "id": "4WEFA1k0EtLW"
      },
      "execution_count": null,
      "outputs": []
    },
    {
      "cell_type": "code",
      "source": [
        "for i in range(0,len(distances.flatten())):\n",
        "    if i==0:\n",
        "        print(\"Recommendations for recipe : {0}\\n\".format(recipe_sample))           \n",
        "    else:\n",
        "        print(\"{0}: {1}, with distance of {2}\".format(i,df_KNN.index[indices.flatten()[i]],distances.flatten()[i]))\n",
        "\n"
      ],
      "metadata": {
        "colab": {
          "base_uri": "https://localhost:8080/"
        },
        "id": "64TvK8TUEtWv",
        "outputId": "fc0e0c8a-8017-4896-c8b4-13f2545fdeb4"
      },
      "execution_count": null,
      "outputs": [
        {
          "output_type": "stream",
          "name": "stdout",
          "text": [
            "Recommendations for recipe : 175686\n",
            "\n",
            "1: 175686, with distance of 0.0\n",
            "2: 208914, with distance of 0.29289321881345254\n",
            "3: 246, with distance of 0.3845425451033364\n",
            "4: 222338, with distance of 1.0\n",
            "5: 222381, with distance of 1.0\n",
            "6: 222435, with distance of 1.0\n",
            "7: 222357, with distance of 1.0\n",
            "8: 222441, with distance of 1.0\n",
            "9: 222302, with distance of 1.0\n"
          ]
        }
      ]
    },
    {
      "cell_type": "markdown",
      "source": [
        "## Similarity model"
      ],
      "metadata": {
        "id": "sGBbUFcwy_99"
      }
    },
    {
      "cell_type": "code",
      "source": [
        "import spacy\n",
        "\n",
        "import spacy.cli\n",
        "\n",
        "from sklearn.metrics.pairwise import cosine_similarity\n",
        "from sklearn.feature_extraction.text import TfidfVectorizer\n"
      ],
      "metadata": {
        "colab": {
          "base_uri": "https://localhost:8080/"
        },
        "id": "0URZvRTJzTGP",
        "outputId": "39a4a0ab-57fd-45d1-a064-9c72673e42f2"
      },
      "execution_count": null,
      "outputs": [
        {
          "output_type": "stream",
          "name": "stderr",
          "text": [
            "/usr/local/lib/python3.8/dist-packages/torch/cuda/__init__.py:497: UserWarning: Can't initialize NVML\n",
            "  warnings.warn(\"Can't initialize NVML\")\n"
          ]
        }
      ]
    },
    {
      "cell_type": "code",
      "source": [
        "# We need to download the model before using nlp\n",
        "spacy.cli.download(\"en_core_web_lg\")"
      ],
      "metadata": {
        "colab": {
          "base_uri": "https://localhost:8080/"
        },
        "id": "ExR74fWc4HCs",
        "outputId": "d4a2b1a2-d09b-47a1-df48-e463ccd035cf"
      },
      "execution_count": null,
      "outputs": [
        {
          "output_type": "stream",
          "name": "stdout",
          "text": [
            "\u001b[38;5;2m✔ Download and installation successful\u001b[0m\n",
            "You can now load the package via spacy.load('en_core_web_lg')\n"
          ]
        }
      ]
    },
    {
      "cell_type": "code",
      "source": [
        "# The NLP model is provided by spacy, here we import the en_core_web_lg model\n",
        "nlp = spacy.load('en_core_web_lg')"
      ],
      "metadata": {
        "id": "-A0zYtFDzec9"
      },
      "execution_count": null,
      "outputs": []
    },
    {
      "cell_type": "code",
      "source": [
        "ingredients = df_food1.ingredients.dropna()"
      ],
      "metadata": {
        "id": "CWIjyOFL5BTU"
      },
      "execution_count": null,
      "outputs": []
    },
    {
      "cell_type": "code",
      "source": [
        "ingredients"
      ],
      "metadata": {
        "colab": {
          "base_uri": "https://localhost:8080/"
        },
        "id": "gEkkckX35Bbm",
        "outputId": "f4b70236-5c29-4162-8fe8-64b216fbe7f8"
      },
      "execution_count": null,
      "outputs": [
        {
          "output_type": "execute_result",
          "data": {
            "text/plain": [
              "770914     ['butter', 'crisco', 'light brown sugar', 'whi...\n",
              "381989     ['red lentil', 'potatoes', 'olive oil', 'onion...\n",
              "875577     ['walnut halves', 'brown sugar', 'cinnamon', '...\n",
              "55879      ['lea & perrins worcestershire sauce', 'lemon ...\n",
              "567809     ['shortening', 'sugar', 'egg', 'flour', 'salt'...\n",
              "                                 ...                        \n",
              "1082885    ['pickled grape leaves', 'onions', 'rice', 'fl...\n",
              "185072     ['red potatoes', 'salt & pepper', 'sour cream'...\n",
              "1069064    ['goose', 'fresh thyme', 'fresh rosemary', 'sa...\n",
              "893872     ['eggs', 'milk', 'vidalia onions', 'flour', 'p...\n",
              "358263     ['all-purpose flour', 'salt', 'pepper', 'egg',...\n",
              "Name: ingredients, Length: 22647, dtype: object"
            ]
          },
          "metadata": {},
          "execution_count": 22
        }
      ]
    },
    {
      "cell_type": "code",
      "source": [
        "# Construct the nlp models for each ingredients feature:\n",
        "docs = ingredients.progress_apply(nlp)"
      ],
      "metadata": {
        "colab": {
          "base_uri": "https://localhost:8080/"
        },
        "id": "D8s12ISK5BkN",
        "outputId": "63e886d8-377d-4bdd-c445-343d498f8ac4"
      },
      "execution_count": null,
      "outputs": [
        {
          "output_type": "stream",
          "name": "stderr",
          "text": [
            "100%|██████████| 11324/11324 [01:54<00:00, 98.98it/s] \n"
          ]
        }
      ]
    },
    {
      "cell_type": "code",
      "source": [
        "# Function which performs the tokenization and lemmatization from the documents:\n",
        "\n",
        "en_stop_words = spacy.lang.en.stop_words.STOP_WORDS\n",
        "    \n",
        "def get_lemmas(doc, stop_words=en_stop_words):\n",
        "    return ' '.join([\n",
        "        token.lemma_\n",
        "        for token in doc\n",
        "        if token.lemma_ not in stop_words\n",
        "        and token.lemma_.isalpha()\n",
        "    ])"
      ],
      "metadata": {
        "id": "92t4EJv-5Bn7"
      },
      "execution_count": null,
      "outputs": []
    },
    {
      "cell_type": "code",
      "source": [
        "# Applying it we get the lemmas from each ingredients:\n",
        "\n",
        "lemmas = docs.apply(get_lemmas)"
      ],
      "metadata": {
        "id": "DKO4i-2f5Bri"
      },
      "execution_count": null,
      "outputs": []
    },
    {
      "cell_type": "code",
      "source": [
        "# Create the Tf-idf model, restricting that each token must appears in at least 100 ingredients feature and at most in 90% of the ingredients. \n",
        "# This also uses a ngram range from 1 to 10:\n",
        "\n",
        "tfidf = TfidfVectorizer(min_df=100, max_df=0.9, ngram_range=(1, 10))\n"
      ],
      "metadata": {
        "id": "1NI3ZP315BuL"
      },
      "execution_count": null,
      "outputs": []
    },
    {
      "cell_type": "code",
      "source": [
        "# Transforming data:\n",
        "\n",
        "vec_data = tfidf.fit_transform(lemmas)\n"
      ],
      "metadata": {
        "id": "h0Cue8zh5ByM"
      },
      "execution_count": null,
      "outputs": []
    },
    {
      "cell_type": "code",
      "source": [
        "# Computing the cosine similarity:\n",
        "\n",
        "cos_sim = cosine_similarity(vec_data)\n",
        "cos_sim = pd.DataFrame(cos_sim, index=lemmas.index,\n",
        "                       columns=lemmas.index)"
      ],
      "metadata": {
        "id": "EyAHQnYH-lgc"
      },
      "execution_count": null,
      "outputs": []
    },
    {
      "cell_type": "code",
      "source": [
        "cos_sim.head()"
      ],
      "metadata": {
        "colab": {
          "base_uri": "https://localhost:8080/",
          "height": 299
        },
        "id": "F-JfM27W-lmp",
        "outputId": "f493de84-0ad0-4d66-99ae-d3f23b192482"
      },
      "execution_count": null,
      "outputs": [
        {
          "output_type": "execute_result",
          "data": {
            "text/plain": [
              "         770914    381989    875577    55879     567809    728705    409340   \\\n",
              "770914  1.000000  0.019985  0.102452  0.016446  0.492193  0.014004  0.110465   \n",
              "381989  0.019985  1.000000  0.113167  0.091704  0.014152  0.118563  0.049950   \n",
              "875577  0.102452  0.113167  1.000000  0.027617  0.034381  0.065545  0.034453   \n",
              "55879   0.016446  0.091704  0.027617  1.000000  0.006994  0.051411  0.019881   \n",
              "567809  0.492193  0.014152  0.034381  0.006994  1.000000  0.005955  0.122720   \n",
              "\n",
              "         479271    568619    798780   ...   1094292   533947    450951   \\\n",
              "770914  0.014815  0.058686  0.029545  ...  0.017078  0.066822  0.028226   \n",
              "381989  0.080325  0.037131  0.029411  ...  0.168826  0.000000  0.074955   \n",
              "875577  0.023802  0.019500  0.133420  ...  0.068656  0.000000  0.111552   \n",
              "55879   0.050636  0.029046  0.027903  ...  0.067576  0.034885  0.024880   \n",
              "567809  0.018132  0.053588  0.023715  ...  0.020902  0.009322  0.034547   \n",
              "\n",
              "         399572    901783    1082885   185072    1069064   893872    358263   \n",
              "770914  0.022199  0.000000  0.017679  0.007470  0.008149  0.124482  0.067488  \n",
              "381989  0.036713  0.276226  0.053109  0.070033  0.037460  0.111683  0.029865  \n",
              "875577  0.000000  0.014883  0.034352  0.000000  0.000000  0.092179  0.000000  \n",
              "55879   0.000000  0.059395  0.146531  0.022778  0.009130  0.048377  0.027542  \n",
              "567809  0.027171  0.000000  0.013358  0.009143  0.009974  0.078432  0.082603  \n",
              "\n",
              "[5 rows x 22647 columns]"
            ],
            "text/html": [
              "\n",
              "  <div id=\"df-53e0b25b-8040-4f8f-a54b-d4f680e2dd34\">\n",
              "    <div class=\"colab-df-container\">\n",
              "      <div>\n",
              "<style scoped>\n",
              "    .dataframe tbody tr th:only-of-type {\n",
              "        vertical-align: middle;\n",
              "    }\n",
              "\n",
              "    .dataframe tbody tr th {\n",
              "        vertical-align: top;\n",
              "    }\n",
              "\n",
              "    .dataframe thead th {\n",
              "        text-align: right;\n",
              "    }\n",
              "</style>\n",
              "<table border=\"1\" class=\"dataframe\">\n",
              "  <thead>\n",
              "    <tr style=\"text-align: right;\">\n",
              "      <th></th>\n",
              "      <th>770914</th>\n",
              "      <th>381989</th>\n",
              "      <th>875577</th>\n",
              "      <th>55879</th>\n",
              "      <th>567809</th>\n",
              "      <th>728705</th>\n",
              "      <th>409340</th>\n",
              "      <th>479271</th>\n",
              "      <th>568619</th>\n",
              "      <th>798780</th>\n",
              "      <th>...</th>\n",
              "      <th>1094292</th>\n",
              "      <th>533947</th>\n",
              "      <th>450951</th>\n",
              "      <th>399572</th>\n",
              "      <th>901783</th>\n",
              "      <th>1082885</th>\n",
              "      <th>185072</th>\n",
              "      <th>1069064</th>\n",
              "      <th>893872</th>\n",
              "      <th>358263</th>\n",
              "    </tr>\n",
              "  </thead>\n",
              "  <tbody>\n",
              "    <tr>\n",
              "      <th>770914</th>\n",
              "      <td>1.000000</td>\n",
              "      <td>0.019985</td>\n",
              "      <td>0.102452</td>\n",
              "      <td>0.016446</td>\n",
              "      <td>0.492193</td>\n",
              "      <td>0.014004</td>\n",
              "      <td>0.110465</td>\n",
              "      <td>0.014815</td>\n",
              "      <td>0.058686</td>\n",
              "      <td>0.029545</td>\n",
              "      <td>...</td>\n",
              "      <td>0.017078</td>\n",
              "      <td>0.066822</td>\n",
              "      <td>0.028226</td>\n",
              "      <td>0.022199</td>\n",
              "      <td>0.000000</td>\n",
              "      <td>0.017679</td>\n",
              "      <td>0.007470</td>\n",
              "      <td>0.008149</td>\n",
              "      <td>0.124482</td>\n",
              "      <td>0.067488</td>\n",
              "    </tr>\n",
              "    <tr>\n",
              "      <th>381989</th>\n",
              "      <td>0.019985</td>\n",
              "      <td>1.000000</td>\n",
              "      <td>0.113167</td>\n",
              "      <td>0.091704</td>\n",
              "      <td>0.014152</td>\n",
              "      <td>0.118563</td>\n",
              "      <td>0.049950</td>\n",
              "      <td>0.080325</td>\n",
              "      <td>0.037131</td>\n",
              "      <td>0.029411</td>\n",
              "      <td>...</td>\n",
              "      <td>0.168826</td>\n",
              "      <td>0.000000</td>\n",
              "      <td>0.074955</td>\n",
              "      <td>0.036713</td>\n",
              "      <td>0.276226</td>\n",
              "      <td>0.053109</td>\n",
              "      <td>0.070033</td>\n",
              "      <td>0.037460</td>\n",
              "      <td>0.111683</td>\n",
              "      <td>0.029865</td>\n",
              "    </tr>\n",
              "    <tr>\n",
              "      <th>875577</th>\n",
              "      <td>0.102452</td>\n",
              "      <td>0.113167</td>\n",
              "      <td>1.000000</td>\n",
              "      <td>0.027617</td>\n",
              "      <td>0.034381</td>\n",
              "      <td>0.065545</td>\n",
              "      <td>0.034453</td>\n",
              "      <td>0.023802</td>\n",
              "      <td>0.019500</td>\n",
              "      <td>0.133420</td>\n",
              "      <td>...</td>\n",
              "      <td>0.068656</td>\n",
              "      <td>0.000000</td>\n",
              "      <td>0.111552</td>\n",
              "      <td>0.000000</td>\n",
              "      <td>0.014883</td>\n",
              "      <td>0.034352</td>\n",
              "      <td>0.000000</td>\n",
              "      <td>0.000000</td>\n",
              "      <td>0.092179</td>\n",
              "      <td>0.000000</td>\n",
              "    </tr>\n",
              "    <tr>\n",
              "      <th>55879</th>\n",
              "      <td>0.016446</td>\n",
              "      <td>0.091704</td>\n",
              "      <td>0.027617</td>\n",
              "      <td>1.000000</td>\n",
              "      <td>0.006994</td>\n",
              "      <td>0.051411</td>\n",
              "      <td>0.019881</td>\n",
              "      <td>0.050636</td>\n",
              "      <td>0.029046</td>\n",
              "      <td>0.027903</td>\n",
              "      <td>...</td>\n",
              "      <td>0.067576</td>\n",
              "      <td>0.034885</td>\n",
              "      <td>0.024880</td>\n",
              "      <td>0.000000</td>\n",
              "      <td>0.059395</td>\n",
              "      <td>0.146531</td>\n",
              "      <td>0.022778</td>\n",
              "      <td>0.009130</td>\n",
              "      <td>0.048377</td>\n",
              "      <td>0.027542</td>\n",
              "    </tr>\n",
              "    <tr>\n",
              "      <th>567809</th>\n",
              "      <td>0.492193</td>\n",
              "      <td>0.014152</td>\n",
              "      <td>0.034381</td>\n",
              "      <td>0.006994</td>\n",
              "      <td>1.000000</td>\n",
              "      <td>0.005955</td>\n",
              "      <td>0.122720</td>\n",
              "      <td>0.018132</td>\n",
              "      <td>0.053588</td>\n",
              "      <td>0.023715</td>\n",
              "      <td>...</td>\n",
              "      <td>0.020902</td>\n",
              "      <td>0.009322</td>\n",
              "      <td>0.034547</td>\n",
              "      <td>0.027171</td>\n",
              "      <td>0.000000</td>\n",
              "      <td>0.013358</td>\n",
              "      <td>0.009143</td>\n",
              "      <td>0.009974</td>\n",
              "      <td>0.078432</td>\n",
              "      <td>0.082603</td>\n",
              "    </tr>\n",
              "  </tbody>\n",
              "</table>\n",
              "<p>5 rows × 22647 columns</p>\n",
              "</div>\n",
              "      <button class=\"colab-df-convert\" onclick=\"convertToInteractive('df-53e0b25b-8040-4f8f-a54b-d4f680e2dd34')\"\n",
              "              title=\"Convert this dataframe to an interactive table.\"\n",
              "              style=\"display:none;\">\n",
              "        \n",
              "  <svg xmlns=\"http://www.w3.org/2000/svg\" height=\"24px\"viewBox=\"0 0 24 24\"\n",
              "       width=\"24px\">\n",
              "    <path d=\"M0 0h24v24H0V0z\" fill=\"none\"/>\n",
              "    <path d=\"M18.56 5.44l.94 2.06.94-2.06 2.06-.94-2.06-.94-.94-2.06-.94 2.06-2.06.94zm-11 1L8.5 8.5l.94-2.06 2.06-.94-2.06-.94L8.5 2.5l-.94 2.06-2.06.94zm10 10l.94 2.06.94-2.06 2.06-.94-2.06-.94-.94-2.06-.94 2.06-2.06.94z\"/><path d=\"M17.41 7.96l-1.37-1.37c-.4-.4-.92-.59-1.43-.59-.52 0-1.04.2-1.43.59L10.3 9.45l-7.72 7.72c-.78.78-.78 2.05 0 2.83L4 21.41c.39.39.9.59 1.41.59.51 0 1.02-.2 1.41-.59l7.78-7.78 2.81-2.81c.8-.78.8-2.07 0-2.86zM5.41 20L4 18.59l7.72-7.72 1.47 1.35L5.41 20z\"/>\n",
              "  </svg>\n",
              "      </button>\n",
              "      \n",
              "  <style>\n",
              "    .colab-df-container {\n",
              "      display:flex;\n",
              "      flex-wrap:wrap;\n",
              "      gap: 12px;\n",
              "    }\n",
              "\n",
              "    .colab-df-convert {\n",
              "      background-color: #E8F0FE;\n",
              "      border: none;\n",
              "      border-radius: 50%;\n",
              "      cursor: pointer;\n",
              "      display: none;\n",
              "      fill: #1967D2;\n",
              "      height: 32px;\n",
              "      padding: 0 0 0 0;\n",
              "      width: 32px;\n",
              "    }\n",
              "\n",
              "    .colab-df-convert:hover {\n",
              "      background-color: #E2EBFA;\n",
              "      box-shadow: 0px 1px 2px rgba(60, 64, 67, 0.3), 0px 1px 3px 1px rgba(60, 64, 67, 0.15);\n",
              "      fill: #174EA6;\n",
              "    }\n",
              "\n",
              "    [theme=dark] .colab-df-convert {\n",
              "      background-color: #3B4455;\n",
              "      fill: #D2E3FC;\n",
              "    }\n",
              "\n",
              "    [theme=dark] .colab-df-convert:hover {\n",
              "      background-color: #434B5C;\n",
              "      box-shadow: 0px 1px 3px 1px rgba(0, 0, 0, 0.15);\n",
              "      filter: drop-shadow(0px 1px 2px rgba(0, 0, 0, 0.3));\n",
              "      fill: #FFFFFF;\n",
              "    }\n",
              "  </style>\n",
              "\n",
              "      <script>\n",
              "        const buttonEl =\n",
              "          document.querySelector('#df-53e0b25b-8040-4f8f-a54b-d4f680e2dd34 button.colab-df-convert');\n",
              "        buttonEl.style.display =\n",
              "          google.colab.kernel.accessAllowed ? 'block' : 'none';\n",
              "\n",
              "        async function convertToInteractive(key) {\n",
              "          const element = document.querySelector('#df-53e0b25b-8040-4f8f-a54b-d4f680e2dd34');\n",
              "          const dataTable =\n",
              "            await google.colab.kernel.invokeFunction('convertToInteractive',\n",
              "                                                     [key], {});\n",
              "          if (!dataTable) return;\n",
              "\n",
              "          const docLinkHtml = 'Like what you see? Visit the ' +\n",
              "            '<a target=\"_blank\" href=https://colab.research.google.com/notebooks/data_table.ipynb>data table notebook</a>'\n",
              "            + ' to learn more about interactive tables.';\n",
              "          element.innerHTML = '';\n",
              "          dataTable['output_type'] = 'display_data';\n",
              "          await google.colab.output.renderOutput(dataTable, element);\n",
              "          const docLink = document.createElement('div');\n",
              "          docLink.innerHTML = docLinkHtml;\n",
              "          element.appendChild(docLink);\n",
              "        }\n",
              "      </script>\n",
              "    </div>\n",
              "  </div>\n",
              "  "
            ]
          },
          "metadata": {},
          "execution_count": 32
        }
      ]
    },
    {
      "cell_type": "code",
      "source": [
        "valid_idx = cos_sim.sum() > 0"
      ],
      "metadata": {
        "id": "qpj1j3uz-lqp"
      },
      "execution_count": null,
      "outputs": []
    },
    {
      "cell_type": "code",
      "source": [
        "valid_idx"
      ],
      "metadata": {
        "colab": {
          "base_uri": "https://localhost:8080/"
        },
        "id": "YpDSLeiO-ltw",
        "outputId": "b0df6293-1647-49cb-f0ba-52d588edc902"
      },
      "execution_count": null,
      "outputs": [
        {
          "output_type": "execute_result",
          "data": {
            "text/plain": [
              "770914     True\n",
              "381989     True\n",
              "875577     True\n",
              "55879      True\n",
              "567809     True\n",
              "           ... \n",
              "1082885    True\n",
              "185072     True\n",
              "1069064    True\n",
              "893872     True\n",
              "358263     True\n",
              "Length: 22647, dtype: bool"
            ]
          },
          "metadata": {},
          "execution_count": 34
        }
      ]
    },
    {
      "cell_type": "code",
      "source": [
        "cos_sim = cos_sim.loc[valid_idx, valid_idx]"
      ],
      "metadata": {
        "id": "ruowwsHk-lx7"
      },
      "execution_count": null,
      "outputs": []
    },
    {
      "cell_type": "code",
      "source": [
        "cos_sim"
      ],
      "metadata": {
        "colab": {
          "base_uri": "https://localhost:8080/",
          "height": 487
        },
        "id": "qNt37zWHCJGy",
        "outputId": "9cf0d4de-54ab-4d66-e359-d190207a5bf1"
      },
      "execution_count": null,
      "outputs": [
        {
          "output_type": "execute_result",
          "data": {
            "text/plain": [
              "          126581    506429    347483    240668    810753    274727    348365   \\\n",
              "126581   1.000000  0.000000  0.097477  0.033961  0.218756  0.000000  0.097597   \n",
              "506429   0.000000  1.000000  0.025346  0.141543  0.010426  0.000000  0.041479   \n",
              "347483   0.097477  0.025346  1.000000  0.000000  0.027397  0.028134  0.015935   \n",
              "240668   0.033961  0.141543  0.000000  1.000000  0.025455  0.000000  0.213558   \n",
              "810753   0.218756  0.010426  0.027397  0.025455  1.000000  0.000000  0.064500   \n",
              "...           ...       ...       ...       ...       ...       ...       ...   \n",
              "1129597  0.000000  0.000000  0.000000  0.000000  0.000000  0.000000  0.000000   \n",
              "269454   0.081025  0.065493  0.068284  0.246506  0.026194  0.087476  0.156990   \n",
              "579672   0.191031  0.000000  0.019807  0.034071  0.066392  0.043132  0.078256   \n",
              "746909   0.250252  0.007248  0.072021  0.021233  0.046627  0.000000  0.065904   \n",
              "1011390  0.039198  0.000000  0.036723  0.067327  0.049912  0.050980  0.023304   \n",
              "\n",
              "          456206    235413    1002631  ...   402812    1132042   479657   \\\n",
              "126581   0.006989  0.022741  0.091144  ...  0.135676  0.036247  0.114100   \n",
              "506429   0.000000  0.035184  0.000000  ...  0.000000  0.000000  0.008336   \n",
              "347483   0.047854  0.035981  0.050413  ...  0.028436  0.057350  0.116266   \n",
              "240668   0.022789  0.083435  0.035447  ...  0.000000  0.132987  0.095139   \n",
              "810753   0.020037  0.022797  0.015008  ...  0.189566  0.036337  0.146500   \n",
              "...           ...       ...       ...  ...       ...       ...       ...   \n",
              "1129597  0.000000  0.000000  0.000000  ...  0.000000  0.000000  0.000000   \n",
              "269454   0.012244  0.013778  0.015546  ...  0.014005  0.021961  0.114541   \n",
              "579672   0.000000  0.014837  0.098180  ...  0.021313  0.023648  0.074640   \n",
              "746909   0.004370  0.014218  0.014869  ...  0.094091  0.022662  0.172986   \n",
              "1011390  0.092129  0.087035  0.078131  ...  0.156576  0.113744  0.020764   \n",
              "\n",
              "          1008316   1089606  1129597   269454    579672    746909    1011390  \n",
              "126581   0.000000  0.056477      0.0  0.081025  0.191031  0.250252  0.039198  \n",
              "506429   0.061714  0.019448      0.0  0.065493  0.000000  0.007248  0.000000  \n",
              "347483   0.024991  0.079604      0.0  0.068284  0.019807  0.072021  0.036723  \n",
              "240668   0.000000  0.032178      0.0  0.246506  0.034071  0.021233  0.067327  \n",
              "810753   0.017033  0.349493      0.0  0.026194  0.066392  0.046627  0.049912  \n",
              "...           ...       ...      ...       ...       ...       ...       ...  \n",
              "1129597  0.000000  0.000000      1.0  0.000000  0.000000  0.000000  0.000000  \n",
              "269454   0.094610  0.052394      0.0  1.000000  0.081287  0.065869  0.018086  \n",
              "579672   0.038313  0.036856      0.0  0.081287  1.000000  0.147982  0.000000  \n",
              "746909   0.011840  0.106460      0.0  0.065869  0.147982  1.000000  0.006455  \n",
              "1011390  0.051847  0.049403      0.0  0.018086  0.000000  0.006455  1.000000  \n",
              "\n",
              "[11318 rows x 11318 columns]"
            ],
            "text/html": [
              "\n",
              "  <div id=\"df-1d22e21f-4340-4f48-a9f3-1aa1dfe1d045\">\n",
              "    <div class=\"colab-df-container\">\n",
              "      <div>\n",
              "<style scoped>\n",
              "    .dataframe tbody tr th:only-of-type {\n",
              "        vertical-align: middle;\n",
              "    }\n",
              "\n",
              "    .dataframe tbody tr th {\n",
              "        vertical-align: top;\n",
              "    }\n",
              "\n",
              "    .dataframe thead th {\n",
              "        text-align: right;\n",
              "    }\n",
              "</style>\n",
              "<table border=\"1\" class=\"dataframe\">\n",
              "  <thead>\n",
              "    <tr style=\"text-align: right;\">\n",
              "      <th></th>\n",
              "      <th>126581</th>\n",
              "      <th>506429</th>\n",
              "      <th>347483</th>\n",
              "      <th>240668</th>\n",
              "      <th>810753</th>\n",
              "      <th>274727</th>\n",
              "      <th>348365</th>\n",
              "      <th>456206</th>\n",
              "      <th>235413</th>\n",
              "      <th>1002631</th>\n",
              "      <th>...</th>\n",
              "      <th>402812</th>\n",
              "      <th>1132042</th>\n",
              "      <th>479657</th>\n",
              "      <th>1008316</th>\n",
              "      <th>1089606</th>\n",
              "      <th>1129597</th>\n",
              "      <th>269454</th>\n",
              "      <th>579672</th>\n",
              "      <th>746909</th>\n",
              "      <th>1011390</th>\n",
              "    </tr>\n",
              "  </thead>\n",
              "  <tbody>\n",
              "    <tr>\n",
              "      <th>126581</th>\n",
              "      <td>1.000000</td>\n",
              "      <td>0.000000</td>\n",
              "      <td>0.097477</td>\n",
              "      <td>0.033961</td>\n",
              "      <td>0.218756</td>\n",
              "      <td>0.000000</td>\n",
              "      <td>0.097597</td>\n",
              "      <td>0.006989</td>\n",
              "      <td>0.022741</td>\n",
              "      <td>0.091144</td>\n",
              "      <td>...</td>\n",
              "      <td>0.135676</td>\n",
              "      <td>0.036247</td>\n",
              "      <td>0.114100</td>\n",
              "      <td>0.000000</td>\n",
              "      <td>0.056477</td>\n",
              "      <td>0.0</td>\n",
              "      <td>0.081025</td>\n",
              "      <td>0.191031</td>\n",
              "      <td>0.250252</td>\n",
              "      <td>0.039198</td>\n",
              "    </tr>\n",
              "    <tr>\n",
              "      <th>506429</th>\n",
              "      <td>0.000000</td>\n",
              "      <td>1.000000</td>\n",
              "      <td>0.025346</td>\n",
              "      <td>0.141543</td>\n",
              "      <td>0.010426</td>\n",
              "      <td>0.000000</td>\n",
              "      <td>0.041479</td>\n",
              "      <td>0.000000</td>\n",
              "      <td>0.035184</td>\n",
              "      <td>0.000000</td>\n",
              "      <td>...</td>\n",
              "      <td>0.000000</td>\n",
              "      <td>0.000000</td>\n",
              "      <td>0.008336</td>\n",
              "      <td>0.061714</td>\n",
              "      <td>0.019448</td>\n",
              "      <td>0.0</td>\n",
              "      <td>0.065493</td>\n",
              "      <td>0.000000</td>\n",
              "      <td>0.007248</td>\n",
              "      <td>0.000000</td>\n",
              "    </tr>\n",
              "    <tr>\n",
              "      <th>347483</th>\n",
              "      <td>0.097477</td>\n",
              "      <td>0.025346</td>\n",
              "      <td>1.000000</td>\n",
              "      <td>0.000000</td>\n",
              "      <td>0.027397</td>\n",
              "      <td>0.028134</td>\n",
              "      <td>0.015935</td>\n",
              "      <td>0.047854</td>\n",
              "      <td>0.035981</td>\n",
              "      <td>0.050413</td>\n",
              "      <td>...</td>\n",
              "      <td>0.028436</td>\n",
              "      <td>0.057350</td>\n",
              "      <td>0.116266</td>\n",
              "      <td>0.024991</td>\n",
              "      <td>0.079604</td>\n",
              "      <td>0.0</td>\n",
              "      <td>0.068284</td>\n",
              "      <td>0.019807</td>\n",
              "      <td>0.072021</td>\n",
              "      <td>0.036723</td>\n",
              "    </tr>\n",
              "    <tr>\n",
              "      <th>240668</th>\n",
              "      <td>0.033961</td>\n",
              "      <td>0.141543</td>\n",
              "      <td>0.000000</td>\n",
              "      <td>1.000000</td>\n",
              "      <td>0.025455</td>\n",
              "      <td>0.000000</td>\n",
              "      <td>0.213558</td>\n",
              "      <td>0.022789</td>\n",
              "      <td>0.083435</td>\n",
              "      <td>0.035447</td>\n",
              "      <td>...</td>\n",
              "      <td>0.000000</td>\n",
              "      <td>0.132987</td>\n",
              "      <td>0.095139</td>\n",
              "      <td>0.000000</td>\n",
              "      <td>0.032178</td>\n",
              "      <td>0.0</td>\n",
              "      <td>0.246506</td>\n",
              "      <td>0.034071</td>\n",
              "      <td>0.021233</td>\n",
              "      <td>0.067327</td>\n",
              "    </tr>\n",
              "    <tr>\n",
              "      <th>810753</th>\n",
              "      <td>0.218756</td>\n",
              "      <td>0.010426</td>\n",
              "      <td>0.027397</td>\n",
              "      <td>0.025455</td>\n",
              "      <td>1.000000</td>\n",
              "      <td>0.000000</td>\n",
              "      <td>0.064500</td>\n",
              "      <td>0.020037</td>\n",
              "      <td>0.022797</td>\n",
              "      <td>0.015008</td>\n",
              "      <td>...</td>\n",
              "      <td>0.189566</td>\n",
              "      <td>0.036337</td>\n",
              "      <td>0.146500</td>\n",
              "      <td>0.017033</td>\n",
              "      <td>0.349493</td>\n",
              "      <td>0.0</td>\n",
              "      <td>0.026194</td>\n",
              "      <td>0.066392</td>\n",
              "      <td>0.046627</td>\n",
              "      <td>0.049912</td>\n",
              "    </tr>\n",
              "    <tr>\n",
              "      <th>...</th>\n",
              "      <td>...</td>\n",
              "      <td>...</td>\n",
              "      <td>...</td>\n",
              "      <td>...</td>\n",
              "      <td>...</td>\n",
              "      <td>...</td>\n",
              "      <td>...</td>\n",
              "      <td>...</td>\n",
              "      <td>...</td>\n",
              "      <td>...</td>\n",
              "      <td>...</td>\n",
              "      <td>...</td>\n",
              "      <td>...</td>\n",
              "      <td>...</td>\n",
              "      <td>...</td>\n",
              "      <td>...</td>\n",
              "      <td>...</td>\n",
              "      <td>...</td>\n",
              "      <td>...</td>\n",
              "      <td>...</td>\n",
              "      <td>...</td>\n",
              "    </tr>\n",
              "    <tr>\n",
              "      <th>1129597</th>\n",
              "      <td>0.000000</td>\n",
              "      <td>0.000000</td>\n",
              "      <td>0.000000</td>\n",
              "      <td>0.000000</td>\n",
              "      <td>0.000000</td>\n",
              "      <td>0.000000</td>\n",
              "      <td>0.000000</td>\n",
              "      <td>0.000000</td>\n",
              "      <td>0.000000</td>\n",
              "      <td>0.000000</td>\n",
              "      <td>...</td>\n",
              "      <td>0.000000</td>\n",
              "      <td>0.000000</td>\n",
              "      <td>0.000000</td>\n",
              "      <td>0.000000</td>\n",
              "      <td>0.000000</td>\n",
              "      <td>1.0</td>\n",
              "      <td>0.000000</td>\n",
              "      <td>0.000000</td>\n",
              "      <td>0.000000</td>\n",
              "      <td>0.000000</td>\n",
              "    </tr>\n",
              "    <tr>\n",
              "      <th>269454</th>\n",
              "      <td>0.081025</td>\n",
              "      <td>0.065493</td>\n",
              "      <td>0.068284</td>\n",
              "      <td>0.246506</td>\n",
              "      <td>0.026194</td>\n",
              "      <td>0.087476</td>\n",
              "      <td>0.156990</td>\n",
              "      <td>0.012244</td>\n",
              "      <td>0.013778</td>\n",
              "      <td>0.015546</td>\n",
              "      <td>...</td>\n",
              "      <td>0.014005</td>\n",
              "      <td>0.021961</td>\n",
              "      <td>0.114541</td>\n",
              "      <td>0.094610</td>\n",
              "      <td>0.052394</td>\n",
              "      <td>0.0</td>\n",
              "      <td>1.000000</td>\n",
              "      <td>0.081287</td>\n",
              "      <td>0.065869</td>\n",
              "      <td>0.018086</td>\n",
              "    </tr>\n",
              "    <tr>\n",
              "      <th>579672</th>\n",
              "      <td>0.191031</td>\n",
              "      <td>0.000000</td>\n",
              "      <td>0.019807</td>\n",
              "      <td>0.034071</td>\n",
              "      <td>0.066392</td>\n",
              "      <td>0.043132</td>\n",
              "      <td>0.078256</td>\n",
              "      <td>0.000000</td>\n",
              "      <td>0.014837</td>\n",
              "      <td>0.098180</td>\n",
              "      <td>...</td>\n",
              "      <td>0.021313</td>\n",
              "      <td>0.023648</td>\n",
              "      <td>0.074640</td>\n",
              "      <td>0.038313</td>\n",
              "      <td>0.036856</td>\n",
              "      <td>0.0</td>\n",
              "      <td>0.081287</td>\n",
              "      <td>1.000000</td>\n",
              "      <td>0.147982</td>\n",
              "      <td>0.000000</td>\n",
              "    </tr>\n",
              "    <tr>\n",
              "      <th>746909</th>\n",
              "      <td>0.250252</td>\n",
              "      <td>0.007248</td>\n",
              "      <td>0.072021</td>\n",
              "      <td>0.021233</td>\n",
              "      <td>0.046627</td>\n",
              "      <td>0.000000</td>\n",
              "      <td>0.065904</td>\n",
              "      <td>0.004370</td>\n",
              "      <td>0.014218</td>\n",
              "      <td>0.014869</td>\n",
              "      <td>...</td>\n",
              "      <td>0.094091</td>\n",
              "      <td>0.022662</td>\n",
              "      <td>0.172986</td>\n",
              "      <td>0.011840</td>\n",
              "      <td>0.106460</td>\n",
              "      <td>0.0</td>\n",
              "      <td>0.065869</td>\n",
              "      <td>0.147982</td>\n",
              "      <td>1.000000</td>\n",
              "      <td>0.006455</td>\n",
              "    </tr>\n",
              "    <tr>\n",
              "      <th>1011390</th>\n",
              "      <td>0.039198</td>\n",
              "      <td>0.000000</td>\n",
              "      <td>0.036723</td>\n",
              "      <td>0.067327</td>\n",
              "      <td>0.049912</td>\n",
              "      <td>0.050980</td>\n",
              "      <td>0.023304</td>\n",
              "      <td>0.092129</td>\n",
              "      <td>0.087035</td>\n",
              "      <td>0.078131</td>\n",
              "      <td>...</td>\n",
              "      <td>0.156576</td>\n",
              "      <td>0.113744</td>\n",
              "      <td>0.020764</td>\n",
              "      <td>0.051847</td>\n",
              "      <td>0.049403</td>\n",
              "      <td>0.0</td>\n",
              "      <td>0.018086</td>\n",
              "      <td>0.000000</td>\n",
              "      <td>0.006455</td>\n",
              "      <td>1.000000</td>\n",
              "    </tr>\n",
              "  </tbody>\n",
              "</table>\n",
              "<p>11318 rows × 11318 columns</p>\n",
              "</div>\n",
              "      <button class=\"colab-df-convert\" onclick=\"convertToInteractive('df-1d22e21f-4340-4f48-a9f3-1aa1dfe1d045')\"\n",
              "              title=\"Convert this dataframe to an interactive table.\"\n",
              "              style=\"display:none;\">\n",
              "        \n",
              "  <svg xmlns=\"http://www.w3.org/2000/svg\" height=\"24px\"viewBox=\"0 0 24 24\"\n",
              "       width=\"24px\">\n",
              "    <path d=\"M0 0h24v24H0V0z\" fill=\"none\"/>\n",
              "    <path d=\"M18.56 5.44l.94 2.06.94-2.06 2.06-.94-2.06-.94-.94-2.06-.94 2.06-2.06.94zm-11 1L8.5 8.5l.94-2.06 2.06-.94-2.06-.94L8.5 2.5l-.94 2.06-2.06.94zm10 10l.94 2.06.94-2.06 2.06-.94-2.06-.94-.94-2.06-.94 2.06-2.06.94z\"/><path d=\"M17.41 7.96l-1.37-1.37c-.4-.4-.92-.59-1.43-.59-.52 0-1.04.2-1.43.59L10.3 9.45l-7.72 7.72c-.78.78-.78 2.05 0 2.83L4 21.41c.39.39.9.59 1.41.59.51 0 1.02-.2 1.41-.59l7.78-7.78 2.81-2.81c.8-.78.8-2.07 0-2.86zM5.41 20L4 18.59l7.72-7.72 1.47 1.35L5.41 20z\"/>\n",
              "  </svg>\n",
              "      </button>\n",
              "      \n",
              "  <style>\n",
              "    .colab-df-container {\n",
              "      display:flex;\n",
              "      flex-wrap:wrap;\n",
              "      gap: 12px;\n",
              "    }\n",
              "\n",
              "    .colab-df-convert {\n",
              "      background-color: #E8F0FE;\n",
              "      border: none;\n",
              "      border-radius: 50%;\n",
              "      cursor: pointer;\n",
              "      display: none;\n",
              "      fill: #1967D2;\n",
              "      height: 32px;\n",
              "      padding: 0 0 0 0;\n",
              "      width: 32px;\n",
              "    }\n",
              "\n",
              "    .colab-df-convert:hover {\n",
              "      background-color: #E2EBFA;\n",
              "      box-shadow: 0px 1px 2px rgba(60, 64, 67, 0.3), 0px 1px 3px 1px rgba(60, 64, 67, 0.15);\n",
              "      fill: #174EA6;\n",
              "    }\n",
              "\n",
              "    [theme=dark] .colab-df-convert {\n",
              "      background-color: #3B4455;\n",
              "      fill: #D2E3FC;\n",
              "    }\n",
              "\n",
              "    [theme=dark] .colab-df-convert:hover {\n",
              "      background-color: #434B5C;\n",
              "      box-shadow: 0px 1px 3px 1px rgba(0, 0, 0, 0.15);\n",
              "      filter: drop-shadow(0px 1px 2px rgba(0, 0, 0, 0.3));\n",
              "      fill: #FFFFFF;\n",
              "    }\n",
              "  </style>\n",
              "\n",
              "      <script>\n",
              "        const buttonEl =\n",
              "          document.querySelector('#df-1d22e21f-4340-4f48-a9f3-1aa1dfe1d045 button.colab-df-convert');\n",
              "        buttonEl.style.display =\n",
              "          google.colab.kernel.accessAllowed ? 'block' : 'none';\n",
              "\n",
              "        async function convertToInteractive(key) {\n",
              "          const element = document.querySelector('#df-1d22e21f-4340-4f48-a9f3-1aa1dfe1d045');\n",
              "          const dataTable =\n",
              "            await google.colab.kernel.invokeFunction('convertToInteractive',\n",
              "                                                     [key], {});\n",
              "          if (!dataTable) return;\n",
              "\n",
              "          const docLinkHtml = 'Like what you see? Visit the ' +\n",
              "            '<a target=\"_blank\" href=https://colab.research.google.com/notebooks/data_table.ipynb>data table notebook</a>'\n",
              "            + ' to learn more about interactive tables.';\n",
              "          element.innerHTML = '';\n",
              "          dataTable['output_type'] = 'display_data';\n",
              "          await google.colab.output.renderOutput(dataTable, element);\n",
              "          const docLink = document.createElement('div');\n",
              "          docLink.innerHTML = docLinkHtml;\n",
              "          element.appendChild(docLink);\n",
              "        }\n",
              "      </script>\n",
              "    </div>\n",
              "  </div>\n",
              "  "
            ]
          },
          "metadata": {},
          "execution_count": 24
        }
      ]
    },
    {
      "cell_type": "code",
      "source": [
        "# For the recommendation we do not store all the similarities, we need only the top most similar for each one. \n",
        "# First we count how many represents the 0.01% most similar for each one:\n",
        "sizes = {\n",
        "    idx: row[(row > np.percentile(row, 99.9))&(row < 1)].size\n",
        "    for idx, row in cos_sim.iterrows()\n",
        "}"
      ],
      "metadata": {
        "id": "ppLBEIi1CJNb"
      },
      "execution_count": null,
      "outputs": []
    },
    {
      "cell_type": "code",
      "source": [
        "# After we take the median value:\n",
        "size = np.median([*sizes.values()]).astype(int)\n",
        "size"
      ],
      "metadata": {
        "colab": {
          "base_uri": "https://localhost:8080/"
        },
        "id": "c6qMu_MaCJXK",
        "outputId": "64f151d0-692c-4d07-abe2-ba32ff83d11e"
      },
      "execution_count": null,
      "outputs": [
        {
          "output_type": "execute_result",
          "data": {
            "text/plain": [
              "11"
            ]
          },
          "metadata": {},
          "execution_count": 26
        }
      ]
    },
    {
      "cell_type": "code",
      "source": [
        "# Which means that 11 recipes represent the 0.01% most similar to other, at median. So we get the 11 most similar for each one:\n",
        "similarities = {\n",
        "    idx: row[~np.isclose(row, 1)].nlargest(size)\n",
        "    for idx, row in cos_sim.iterrows()\n",
        "}"
      ],
      "metadata": {
        "id": "3IS5ZvqSuHDb"
      },
      "execution_count": null,
      "outputs": []
    },
    {
      "cell_type": "code",
      "source": [
        "# Splitting the id info and the weight:\n",
        "ingredients_id = pd.DataFrame({\n",
        "    key: value.index.values\n",
        "    for key, value in similarities.items()\n",
        "}).T\n",
        "\n",
        "ingredients_weight = pd.DataFrame({\n",
        "    key: value.values / value.values.sum()\n",
        "    for key, value in similarities.items()\n",
        "}).T"
      ],
      "metadata": {
        "id": "_vCkAzxouHJ7"
      },
      "execution_count": null,
      "outputs": []
    },
    {
      "cell_type": "code",
      "source": [
        "ingredients_id.head()"
      ],
      "metadata": {
        "colab": {
          "base_uri": "https://localhost:8080/",
          "height": 206
        },
        "id": "r0DtN7Fr21GM",
        "outputId": "bac6eeb4-7e63-4494-a926-e07efffc3c76"
      },
      "execution_count": null,
      "outputs": [
        {
          "output_type": "execute_result",
          "data": {
            "text/plain": [
              "            0       1       2       3       4       5       6       7   \\\n",
              "126581  532638  532695  252367  245620  649614  391691  391693  507090   \n",
              "506429  856083  508333  672620  784532  784520  784530  784518  784468   \n",
              "347483  373969  373976  849833  342900  252781  252728  805167   38201   \n",
              "240668  100833  136968  825610  344645  344631  710551  941555  467715   \n",
              "810753  487967  122824  803747   75918  908756  326122  359323  181652   \n",
              "\n",
              "            8        9       10  \n",
              "126581  507060   400779  997668  \n",
              "506429  784519  1057491  137031  \n",
              "347483   38192   453162  276196  \n",
              "240668  501943   463898    7241  \n",
              "810753  475291  1120883  106685  "
            ],
            "text/html": [
              "\n",
              "  <div id=\"df-9bf8a6f6-4142-4e48-9ce4-41359fb74e56\">\n",
              "    <div class=\"colab-df-container\">\n",
              "      <div>\n",
              "<style scoped>\n",
              "    .dataframe tbody tr th:only-of-type {\n",
              "        vertical-align: middle;\n",
              "    }\n",
              "\n",
              "    .dataframe tbody tr th {\n",
              "        vertical-align: top;\n",
              "    }\n",
              "\n",
              "    .dataframe thead th {\n",
              "        text-align: right;\n",
              "    }\n",
              "</style>\n",
              "<table border=\"1\" class=\"dataframe\">\n",
              "  <thead>\n",
              "    <tr style=\"text-align: right;\">\n",
              "      <th></th>\n",
              "      <th>0</th>\n",
              "      <th>1</th>\n",
              "      <th>2</th>\n",
              "      <th>3</th>\n",
              "      <th>4</th>\n",
              "      <th>5</th>\n",
              "      <th>6</th>\n",
              "      <th>7</th>\n",
              "      <th>8</th>\n",
              "      <th>9</th>\n",
              "      <th>10</th>\n",
              "    </tr>\n",
              "  </thead>\n",
              "  <tbody>\n",
              "    <tr>\n",
              "      <th>126581</th>\n",
              "      <td>532638</td>\n",
              "      <td>532695</td>\n",
              "      <td>252367</td>\n",
              "      <td>245620</td>\n",
              "      <td>649614</td>\n",
              "      <td>391691</td>\n",
              "      <td>391693</td>\n",
              "      <td>507090</td>\n",
              "      <td>507060</td>\n",
              "      <td>400779</td>\n",
              "      <td>997668</td>\n",
              "    </tr>\n",
              "    <tr>\n",
              "      <th>506429</th>\n",
              "      <td>856083</td>\n",
              "      <td>508333</td>\n",
              "      <td>672620</td>\n",
              "      <td>784532</td>\n",
              "      <td>784520</td>\n",
              "      <td>784530</td>\n",
              "      <td>784518</td>\n",
              "      <td>784468</td>\n",
              "      <td>784519</td>\n",
              "      <td>1057491</td>\n",
              "      <td>137031</td>\n",
              "    </tr>\n",
              "    <tr>\n",
              "      <th>347483</th>\n",
              "      <td>373969</td>\n",
              "      <td>373976</td>\n",
              "      <td>849833</td>\n",
              "      <td>342900</td>\n",
              "      <td>252781</td>\n",
              "      <td>252728</td>\n",
              "      <td>805167</td>\n",
              "      <td>38201</td>\n",
              "      <td>38192</td>\n",
              "      <td>453162</td>\n",
              "      <td>276196</td>\n",
              "    </tr>\n",
              "    <tr>\n",
              "      <th>240668</th>\n",
              "      <td>100833</td>\n",
              "      <td>136968</td>\n",
              "      <td>825610</td>\n",
              "      <td>344645</td>\n",
              "      <td>344631</td>\n",
              "      <td>710551</td>\n",
              "      <td>941555</td>\n",
              "      <td>467715</td>\n",
              "      <td>501943</td>\n",
              "      <td>463898</td>\n",
              "      <td>7241</td>\n",
              "    </tr>\n",
              "    <tr>\n",
              "      <th>810753</th>\n",
              "      <td>487967</td>\n",
              "      <td>122824</td>\n",
              "      <td>803747</td>\n",
              "      <td>75918</td>\n",
              "      <td>908756</td>\n",
              "      <td>326122</td>\n",
              "      <td>359323</td>\n",
              "      <td>181652</td>\n",
              "      <td>475291</td>\n",
              "      <td>1120883</td>\n",
              "      <td>106685</td>\n",
              "    </tr>\n",
              "  </tbody>\n",
              "</table>\n",
              "</div>\n",
              "      <button class=\"colab-df-convert\" onclick=\"convertToInteractive('df-9bf8a6f6-4142-4e48-9ce4-41359fb74e56')\"\n",
              "              title=\"Convert this dataframe to an interactive table.\"\n",
              "              style=\"display:none;\">\n",
              "        \n",
              "  <svg xmlns=\"http://www.w3.org/2000/svg\" height=\"24px\"viewBox=\"0 0 24 24\"\n",
              "       width=\"24px\">\n",
              "    <path d=\"M0 0h24v24H0V0z\" fill=\"none\"/>\n",
              "    <path d=\"M18.56 5.44l.94 2.06.94-2.06 2.06-.94-2.06-.94-.94-2.06-.94 2.06-2.06.94zm-11 1L8.5 8.5l.94-2.06 2.06-.94-2.06-.94L8.5 2.5l-.94 2.06-2.06.94zm10 10l.94 2.06.94-2.06 2.06-.94-2.06-.94-.94-2.06-.94 2.06-2.06.94z\"/><path d=\"M17.41 7.96l-1.37-1.37c-.4-.4-.92-.59-1.43-.59-.52 0-1.04.2-1.43.59L10.3 9.45l-7.72 7.72c-.78.78-.78 2.05 0 2.83L4 21.41c.39.39.9.59 1.41.59.51 0 1.02-.2 1.41-.59l7.78-7.78 2.81-2.81c.8-.78.8-2.07 0-2.86zM5.41 20L4 18.59l7.72-7.72 1.47 1.35L5.41 20z\"/>\n",
              "  </svg>\n",
              "      </button>\n",
              "      \n",
              "  <style>\n",
              "    .colab-df-container {\n",
              "      display:flex;\n",
              "      flex-wrap:wrap;\n",
              "      gap: 12px;\n",
              "    }\n",
              "\n",
              "    .colab-df-convert {\n",
              "      background-color: #E8F0FE;\n",
              "      border: none;\n",
              "      border-radius: 50%;\n",
              "      cursor: pointer;\n",
              "      display: none;\n",
              "      fill: #1967D2;\n",
              "      height: 32px;\n",
              "      padding: 0 0 0 0;\n",
              "      width: 32px;\n",
              "    }\n",
              "\n",
              "    .colab-df-convert:hover {\n",
              "      background-color: #E2EBFA;\n",
              "      box-shadow: 0px 1px 2px rgba(60, 64, 67, 0.3), 0px 1px 3px 1px rgba(60, 64, 67, 0.15);\n",
              "      fill: #174EA6;\n",
              "    }\n",
              "\n",
              "    [theme=dark] .colab-df-convert {\n",
              "      background-color: #3B4455;\n",
              "      fill: #D2E3FC;\n",
              "    }\n",
              "\n",
              "    [theme=dark] .colab-df-convert:hover {\n",
              "      background-color: #434B5C;\n",
              "      box-shadow: 0px 1px 3px 1px rgba(0, 0, 0, 0.15);\n",
              "      filter: drop-shadow(0px 1px 2px rgba(0, 0, 0, 0.3));\n",
              "      fill: #FFFFFF;\n",
              "    }\n",
              "  </style>\n",
              "\n",
              "      <script>\n",
              "        const buttonEl =\n",
              "          document.querySelector('#df-9bf8a6f6-4142-4e48-9ce4-41359fb74e56 button.colab-df-convert');\n",
              "        buttonEl.style.display =\n",
              "          google.colab.kernel.accessAllowed ? 'block' : 'none';\n",
              "\n",
              "        async function convertToInteractive(key) {\n",
              "          const element = document.querySelector('#df-9bf8a6f6-4142-4e48-9ce4-41359fb74e56');\n",
              "          const dataTable =\n",
              "            await google.colab.kernel.invokeFunction('convertToInteractive',\n",
              "                                                     [key], {});\n",
              "          if (!dataTable) return;\n",
              "\n",
              "          const docLinkHtml = 'Like what you see? Visit the ' +\n",
              "            '<a target=\"_blank\" href=https://colab.research.google.com/notebooks/data_table.ipynb>data table notebook</a>'\n",
              "            + ' to learn more about interactive tables.';\n",
              "          element.innerHTML = '';\n",
              "          dataTable['output_type'] = 'display_data';\n",
              "          await google.colab.output.renderOutput(dataTable, element);\n",
              "          const docLink = document.createElement('div');\n",
              "          docLink.innerHTML = docLinkHtml;\n",
              "          element.appendChild(docLink);\n",
              "        }\n",
              "      </script>\n",
              "    </div>\n",
              "  </div>\n",
              "  "
            ]
          },
          "metadata": {},
          "execution_count": 36
        }
      ]
    },
    {
      "cell_type": "code",
      "source": [
        "ingredients_weight.head()"
      ],
      "metadata": {
        "colab": {
          "base_uri": "https://localhost:8080/",
          "height": 206
        },
        "id": "IKBy5uYp21Qj",
        "outputId": "b101b2f4-e652-4811-9fab-a026bf0a4054"
      },
      "execution_count": null,
      "outputs": [
        {
          "output_type": "execute_result",
          "data": {
            "text/plain": [
              "              0         1         2         3         4         5         6   \\\n",
              "126581  0.102394  0.102394  0.095194  0.090582  0.090459  0.089503  0.089503   \n",
              "506429  0.094851  0.092877  0.090764  0.090521  0.090521  0.090521  0.090521   \n",
              "347483  0.099922  0.099922  0.093646  0.091559  0.089063  0.089063  0.088542   \n",
              "240668  0.098598  0.096712  0.091538  0.091471  0.091471  0.090432  0.089688   \n",
              "810753  0.103537  0.097178  0.094930  0.092147  0.092007  0.088485  0.088336   \n",
              "\n",
              "              7         8         9         10  \n",
              "126581  0.086304  0.086304  0.083898  0.083464  \n",
              "506429  0.090521  0.090521  0.089719  0.088664  \n",
              "347483  0.088323  0.088323  0.085954  0.085682  \n",
              "240668  0.088631  0.088506  0.088002  0.084951  \n",
              "810753  0.086774  0.086367  0.085187  0.085052  "
            ],
            "text/html": [
              "\n",
              "  <div id=\"df-421db09a-1bc5-4ae6-a30d-445053559941\">\n",
              "    <div class=\"colab-df-container\">\n",
              "      <div>\n",
              "<style scoped>\n",
              "    .dataframe tbody tr th:only-of-type {\n",
              "        vertical-align: middle;\n",
              "    }\n",
              "\n",
              "    .dataframe tbody tr th {\n",
              "        vertical-align: top;\n",
              "    }\n",
              "\n",
              "    .dataframe thead th {\n",
              "        text-align: right;\n",
              "    }\n",
              "</style>\n",
              "<table border=\"1\" class=\"dataframe\">\n",
              "  <thead>\n",
              "    <tr style=\"text-align: right;\">\n",
              "      <th></th>\n",
              "      <th>0</th>\n",
              "      <th>1</th>\n",
              "      <th>2</th>\n",
              "      <th>3</th>\n",
              "      <th>4</th>\n",
              "      <th>5</th>\n",
              "      <th>6</th>\n",
              "      <th>7</th>\n",
              "      <th>8</th>\n",
              "      <th>9</th>\n",
              "      <th>10</th>\n",
              "    </tr>\n",
              "  </thead>\n",
              "  <tbody>\n",
              "    <tr>\n",
              "      <th>126581</th>\n",
              "      <td>0.102394</td>\n",
              "      <td>0.102394</td>\n",
              "      <td>0.095194</td>\n",
              "      <td>0.090582</td>\n",
              "      <td>0.090459</td>\n",
              "      <td>0.089503</td>\n",
              "      <td>0.089503</td>\n",
              "      <td>0.086304</td>\n",
              "      <td>0.086304</td>\n",
              "      <td>0.083898</td>\n",
              "      <td>0.083464</td>\n",
              "    </tr>\n",
              "    <tr>\n",
              "      <th>506429</th>\n",
              "      <td>0.094851</td>\n",
              "      <td>0.092877</td>\n",
              "      <td>0.090764</td>\n",
              "      <td>0.090521</td>\n",
              "      <td>0.090521</td>\n",
              "      <td>0.090521</td>\n",
              "      <td>0.090521</td>\n",
              "      <td>0.090521</td>\n",
              "      <td>0.090521</td>\n",
              "      <td>0.089719</td>\n",
              "      <td>0.088664</td>\n",
              "    </tr>\n",
              "    <tr>\n",
              "      <th>347483</th>\n",
              "      <td>0.099922</td>\n",
              "      <td>0.099922</td>\n",
              "      <td>0.093646</td>\n",
              "      <td>0.091559</td>\n",
              "      <td>0.089063</td>\n",
              "      <td>0.089063</td>\n",
              "      <td>0.088542</td>\n",
              "      <td>0.088323</td>\n",
              "      <td>0.088323</td>\n",
              "      <td>0.085954</td>\n",
              "      <td>0.085682</td>\n",
              "    </tr>\n",
              "    <tr>\n",
              "      <th>240668</th>\n",
              "      <td>0.098598</td>\n",
              "      <td>0.096712</td>\n",
              "      <td>0.091538</td>\n",
              "      <td>0.091471</td>\n",
              "      <td>0.091471</td>\n",
              "      <td>0.090432</td>\n",
              "      <td>0.089688</td>\n",
              "      <td>0.088631</td>\n",
              "      <td>0.088506</td>\n",
              "      <td>0.088002</td>\n",
              "      <td>0.084951</td>\n",
              "    </tr>\n",
              "    <tr>\n",
              "      <th>810753</th>\n",
              "      <td>0.103537</td>\n",
              "      <td>0.097178</td>\n",
              "      <td>0.094930</td>\n",
              "      <td>0.092147</td>\n",
              "      <td>0.092007</td>\n",
              "      <td>0.088485</td>\n",
              "      <td>0.088336</td>\n",
              "      <td>0.086774</td>\n",
              "      <td>0.086367</td>\n",
              "      <td>0.085187</td>\n",
              "      <td>0.085052</td>\n",
              "    </tr>\n",
              "  </tbody>\n",
              "</table>\n",
              "</div>\n",
              "      <button class=\"colab-df-convert\" onclick=\"convertToInteractive('df-421db09a-1bc5-4ae6-a30d-445053559941')\"\n",
              "              title=\"Convert this dataframe to an interactive table.\"\n",
              "              style=\"display:none;\">\n",
              "        \n",
              "  <svg xmlns=\"http://www.w3.org/2000/svg\" height=\"24px\"viewBox=\"0 0 24 24\"\n",
              "       width=\"24px\">\n",
              "    <path d=\"M0 0h24v24H0V0z\" fill=\"none\"/>\n",
              "    <path d=\"M18.56 5.44l.94 2.06.94-2.06 2.06-.94-2.06-.94-.94-2.06-.94 2.06-2.06.94zm-11 1L8.5 8.5l.94-2.06 2.06-.94-2.06-.94L8.5 2.5l-.94 2.06-2.06.94zm10 10l.94 2.06.94-2.06 2.06-.94-2.06-.94-.94-2.06-.94 2.06-2.06.94z\"/><path d=\"M17.41 7.96l-1.37-1.37c-.4-.4-.92-.59-1.43-.59-.52 0-1.04.2-1.43.59L10.3 9.45l-7.72 7.72c-.78.78-.78 2.05 0 2.83L4 21.41c.39.39.9.59 1.41.59.51 0 1.02-.2 1.41-.59l7.78-7.78 2.81-2.81c.8-.78.8-2.07 0-2.86zM5.41 20L4 18.59l7.72-7.72 1.47 1.35L5.41 20z\"/>\n",
              "  </svg>\n",
              "      </button>\n",
              "      \n",
              "  <style>\n",
              "    .colab-df-container {\n",
              "      display:flex;\n",
              "      flex-wrap:wrap;\n",
              "      gap: 12px;\n",
              "    }\n",
              "\n",
              "    .colab-df-convert {\n",
              "      background-color: #E8F0FE;\n",
              "      border: none;\n",
              "      border-radius: 50%;\n",
              "      cursor: pointer;\n",
              "      display: none;\n",
              "      fill: #1967D2;\n",
              "      height: 32px;\n",
              "      padding: 0 0 0 0;\n",
              "      width: 32px;\n",
              "    }\n",
              "\n",
              "    .colab-df-convert:hover {\n",
              "      background-color: #E2EBFA;\n",
              "      box-shadow: 0px 1px 2px rgba(60, 64, 67, 0.3), 0px 1px 3px 1px rgba(60, 64, 67, 0.15);\n",
              "      fill: #174EA6;\n",
              "    }\n",
              "\n",
              "    [theme=dark] .colab-df-convert {\n",
              "      background-color: #3B4455;\n",
              "      fill: #D2E3FC;\n",
              "    }\n",
              "\n",
              "    [theme=dark] .colab-df-convert:hover {\n",
              "      background-color: #434B5C;\n",
              "      box-shadow: 0px 1px 3px 1px rgba(0, 0, 0, 0.15);\n",
              "      filter: drop-shadow(0px 1px 2px rgba(0, 0, 0, 0.3));\n",
              "      fill: #FFFFFF;\n",
              "    }\n",
              "  </style>\n",
              "\n",
              "      <script>\n",
              "        const buttonEl =\n",
              "          document.querySelector('#df-421db09a-1bc5-4ae6-a30d-445053559941 button.colab-df-convert');\n",
              "        buttonEl.style.display =\n",
              "          google.colab.kernel.accessAllowed ? 'block' : 'none';\n",
              "\n",
              "        async function convertToInteractive(key) {\n",
              "          const element = document.querySelector('#df-421db09a-1bc5-4ae6-a30d-445053559941');\n",
              "          const dataTable =\n",
              "            await google.colab.kernel.invokeFunction('convertToInteractive',\n",
              "                                                     [key], {});\n",
              "          if (!dataTable) return;\n",
              "\n",
              "          const docLinkHtml = 'Like what you see? Visit the ' +\n",
              "            '<a target=\"_blank\" href=https://colab.research.google.com/notebooks/data_table.ipynb>data table notebook</a>'\n",
              "            + ' to learn more about interactive tables.';\n",
              "          element.innerHTML = '';\n",
              "          dataTable['output_type'] = 'display_data';\n",
              "          await google.colab.output.renderOutput(dataTable, element);\n",
              "          const docLink = document.createElement('div');\n",
              "          docLink.innerHTML = docLinkHtml;\n",
              "          element.appendChild(docLink);\n",
              "        }\n",
              "      </script>\n",
              "    </div>\n",
              "  </div>\n",
              "  "
            ]
          },
          "metadata": {},
          "execution_count": 37
        }
      ]
    },
    {
      "cell_type": "code",
      "source": [
        "weights = pd.concat((ingredients_id, ingredients_weight),\n",
        "                    keys=('RECIPE_ID', 'WEIGHT'),\n",
        "                    axis=1)"
      ],
      "metadata": {
        "id": "3R429_LDuHQR"
      },
      "execution_count": null,
      "outputs": []
    },
    {
      "cell_type": "code",
      "source": [
        "weights.head()"
      ],
      "metadata": {
        "colab": {
          "base_uri": "https://localhost:8080/",
          "height": 331
        },
        "id": "y_WwwvOW477r",
        "outputId": "c832037f-d0a7-4f2b-e40e-b7cc9fce0c9f"
      },
      "execution_count": null,
      "outputs": [
        {
          "output_type": "execute_result",
          "data": {
            "text/plain": [
              "       RECIPE_ID                                                          \\\n",
              "              0       1       2       3       4       5       6       7    \n",
              "126581    532638  532695  252367  245620  649614  391691  391693  507090   \n",
              "506429    856083  508333  672620  784532  784520  784530  784518  784468   \n",
              "347483    373969  373976  849833  342900  252781  252728  805167   38201   \n",
              "240668    100833  136968  825610  344645  344631  710551  941555  467715   \n",
              "810753    487967  122824  803747   75918  908756  326122  359323  181652   \n",
              "\n",
              "                         ...    WEIGHT                                \\\n",
              "            8        9   ...        1         2         3         4    \n",
              "126581  507060   400779  ...  0.102394  0.095194  0.090582  0.090459   \n",
              "506429  784519  1057491  ...  0.092877  0.090764  0.090521  0.090521   \n",
              "347483   38192   453162  ...  0.099922  0.093646  0.091559  0.089063   \n",
              "240668  501943   463898  ...  0.096712  0.091538  0.091471  0.091471   \n",
              "810753  475291  1120883  ...  0.097178  0.094930  0.092147  0.092007   \n",
              "\n",
              "                                                                    \n",
              "              5         6         7         8         9         10  \n",
              "126581  0.089503  0.089503  0.086304  0.086304  0.083898  0.083464  \n",
              "506429  0.090521  0.090521  0.090521  0.090521  0.089719  0.088664  \n",
              "347483  0.089063  0.088542  0.088323  0.088323  0.085954  0.085682  \n",
              "240668  0.090432  0.089688  0.088631  0.088506  0.088002  0.084951  \n",
              "810753  0.088485  0.088336  0.086774  0.086367  0.085187  0.085052  \n",
              "\n",
              "[5 rows x 22 columns]"
            ],
            "text/html": [
              "\n",
              "  <div id=\"df-21a03671-b0b5-4d8b-b27d-bc7e678c7319\">\n",
              "    <div class=\"colab-df-container\">\n",
              "      <div>\n",
              "<style scoped>\n",
              "    .dataframe tbody tr th:only-of-type {\n",
              "        vertical-align: middle;\n",
              "    }\n",
              "\n",
              "    .dataframe tbody tr th {\n",
              "        vertical-align: top;\n",
              "    }\n",
              "\n",
              "    .dataframe thead tr th {\n",
              "        text-align: left;\n",
              "    }\n",
              "</style>\n",
              "<table border=\"1\" class=\"dataframe\">\n",
              "  <thead>\n",
              "    <tr>\n",
              "      <th></th>\n",
              "      <th colspan=\"10\" halign=\"left\">RECIPE_ID</th>\n",
              "      <th>...</th>\n",
              "      <th colspan=\"10\" halign=\"left\">WEIGHT</th>\n",
              "    </tr>\n",
              "    <tr>\n",
              "      <th></th>\n",
              "      <th>0</th>\n",
              "      <th>1</th>\n",
              "      <th>2</th>\n",
              "      <th>3</th>\n",
              "      <th>4</th>\n",
              "      <th>5</th>\n",
              "      <th>6</th>\n",
              "      <th>7</th>\n",
              "      <th>8</th>\n",
              "      <th>9</th>\n",
              "      <th>...</th>\n",
              "      <th>1</th>\n",
              "      <th>2</th>\n",
              "      <th>3</th>\n",
              "      <th>4</th>\n",
              "      <th>5</th>\n",
              "      <th>6</th>\n",
              "      <th>7</th>\n",
              "      <th>8</th>\n",
              "      <th>9</th>\n",
              "      <th>10</th>\n",
              "    </tr>\n",
              "  </thead>\n",
              "  <tbody>\n",
              "    <tr>\n",
              "      <th>126581</th>\n",
              "      <td>532638</td>\n",
              "      <td>532695</td>\n",
              "      <td>252367</td>\n",
              "      <td>245620</td>\n",
              "      <td>649614</td>\n",
              "      <td>391691</td>\n",
              "      <td>391693</td>\n",
              "      <td>507090</td>\n",
              "      <td>507060</td>\n",
              "      <td>400779</td>\n",
              "      <td>...</td>\n",
              "      <td>0.102394</td>\n",
              "      <td>0.095194</td>\n",
              "      <td>0.090582</td>\n",
              "      <td>0.090459</td>\n",
              "      <td>0.089503</td>\n",
              "      <td>0.089503</td>\n",
              "      <td>0.086304</td>\n",
              "      <td>0.086304</td>\n",
              "      <td>0.083898</td>\n",
              "      <td>0.083464</td>\n",
              "    </tr>\n",
              "    <tr>\n",
              "      <th>506429</th>\n",
              "      <td>856083</td>\n",
              "      <td>508333</td>\n",
              "      <td>672620</td>\n",
              "      <td>784532</td>\n",
              "      <td>784520</td>\n",
              "      <td>784530</td>\n",
              "      <td>784518</td>\n",
              "      <td>784468</td>\n",
              "      <td>784519</td>\n",
              "      <td>1057491</td>\n",
              "      <td>...</td>\n",
              "      <td>0.092877</td>\n",
              "      <td>0.090764</td>\n",
              "      <td>0.090521</td>\n",
              "      <td>0.090521</td>\n",
              "      <td>0.090521</td>\n",
              "      <td>0.090521</td>\n",
              "      <td>0.090521</td>\n",
              "      <td>0.090521</td>\n",
              "      <td>0.089719</td>\n",
              "      <td>0.088664</td>\n",
              "    </tr>\n",
              "    <tr>\n",
              "      <th>347483</th>\n",
              "      <td>373969</td>\n",
              "      <td>373976</td>\n",
              "      <td>849833</td>\n",
              "      <td>342900</td>\n",
              "      <td>252781</td>\n",
              "      <td>252728</td>\n",
              "      <td>805167</td>\n",
              "      <td>38201</td>\n",
              "      <td>38192</td>\n",
              "      <td>453162</td>\n",
              "      <td>...</td>\n",
              "      <td>0.099922</td>\n",
              "      <td>0.093646</td>\n",
              "      <td>0.091559</td>\n",
              "      <td>0.089063</td>\n",
              "      <td>0.089063</td>\n",
              "      <td>0.088542</td>\n",
              "      <td>0.088323</td>\n",
              "      <td>0.088323</td>\n",
              "      <td>0.085954</td>\n",
              "      <td>0.085682</td>\n",
              "    </tr>\n",
              "    <tr>\n",
              "      <th>240668</th>\n",
              "      <td>100833</td>\n",
              "      <td>136968</td>\n",
              "      <td>825610</td>\n",
              "      <td>344645</td>\n",
              "      <td>344631</td>\n",
              "      <td>710551</td>\n",
              "      <td>941555</td>\n",
              "      <td>467715</td>\n",
              "      <td>501943</td>\n",
              "      <td>463898</td>\n",
              "      <td>...</td>\n",
              "      <td>0.096712</td>\n",
              "      <td>0.091538</td>\n",
              "      <td>0.091471</td>\n",
              "      <td>0.091471</td>\n",
              "      <td>0.090432</td>\n",
              "      <td>0.089688</td>\n",
              "      <td>0.088631</td>\n",
              "      <td>0.088506</td>\n",
              "      <td>0.088002</td>\n",
              "      <td>0.084951</td>\n",
              "    </tr>\n",
              "    <tr>\n",
              "      <th>810753</th>\n",
              "      <td>487967</td>\n",
              "      <td>122824</td>\n",
              "      <td>803747</td>\n",
              "      <td>75918</td>\n",
              "      <td>908756</td>\n",
              "      <td>326122</td>\n",
              "      <td>359323</td>\n",
              "      <td>181652</td>\n",
              "      <td>475291</td>\n",
              "      <td>1120883</td>\n",
              "      <td>...</td>\n",
              "      <td>0.097178</td>\n",
              "      <td>0.094930</td>\n",
              "      <td>0.092147</td>\n",
              "      <td>0.092007</td>\n",
              "      <td>0.088485</td>\n",
              "      <td>0.088336</td>\n",
              "      <td>0.086774</td>\n",
              "      <td>0.086367</td>\n",
              "      <td>0.085187</td>\n",
              "      <td>0.085052</td>\n",
              "    </tr>\n",
              "  </tbody>\n",
              "</table>\n",
              "<p>5 rows × 22 columns</p>\n",
              "</div>\n",
              "      <button class=\"colab-df-convert\" onclick=\"convertToInteractive('df-21a03671-b0b5-4d8b-b27d-bc7e678c7319')\"\n",
              "              title=\"Convert this dataframe to an interactive table.\"\n",
              "              style=\"display:none;\">\n",
              "        \n",
              "  <svg xmlns=\"http://www.w3.org/2000/svg\" height=\"24px\"viewBox=\"0 0 24 24\"\n",
              "       width=\"24px\">\n",
              "    <path d=\"M0 0h24v24H0V0z\" fill=\"none\"/>\n",
              "    <path d=\"M18.56 5.44l.94 2.06.94-2.06 2.06-.94-2.06-.94-.94-2.06-.94 2.06-2.06.94zm-11 1L8.5 8.5l.94-2.06 2.06-.94-2.06-.94L8.5 2.5l-.94 2.06-2.06.94zm10 10l.94 2.06.94-2.06 2.06-.94-2.06-.94-.94-2.06-.94 2.06-2.06.94z\"/><path d=\"M17.41 7.96l-1.37-1.37c-.4-.4-.92-.59-1.43-.59-.52 0-1.04.2-1.43.59L10.3 9.45l-7.72 7.72c-.78.78-.78 2.05 0 2.83L4 21.41c.39.39.9.59 1.41.59.51 0 1.02-.2 1.41-.59l7.78-7.78 2.81-2.81c.8-.78.8-2.07 0-2.86zM5.41 20L4 18.59l7.72-7.72 1.47 1.35L5.41 20z\"/>\n",
              "  </svg>\n",
              "      </button>\n",
              "      \n",
              "  <style>\n",
              "    .colab-df-container {\n",
              "      display:flex;\n",
              "      flex-wrap:wrap;\n",
              "      gap: 12px;\n",
              "    }\n",
              "\n",
              "    .colab-df-convert {\n",
              "      background-color: #E8F0FE;\n",
              "      border: none;\n",
              "      border-radius: 50%;\n",
              "      cursor: pointer;\n",
              "      display: none;\n",
              "      fill: #1967D2;\n",
              "      height: 32px;\n",
              "      padding: 0 0 0 0;\n",
              "      width: 32px;\n",
              "    }\n",
              "\n",
              "    .colab-df-convert:hover {\n",
              "      background-color: #E2EBFA;\n",
              "      box-shadow: 0px 1px 2px rgba(60, 64, 67, 0.3), 0px 1px 3px 1px rgba(60, 64, 67, 0.15);\n",
              "      fill: #174EA6;\n",
              "    }\n",
              "\n",
              "    [theme=dark] .colab-df-convert {\n",
              "      background-color: #3B4455;\n",
              "      fill: #D2E3FC;\n",
              "    }\n",
              "\n",
              "    [theme=dark] .colab-df-convert:hover {\n",
              "      background-color: #434B5C;\n",
              "      box-shadow: 0px 1px 3px 1px rgba(0, 0, 0, 0.15);\n",
              "      filter: drop-shadow(0px 1px 2px rgba(0, 0, 0, 0.3));\n",
              "      fill: #FFFFFF;\n",
              "    }\n",
              "  </style>\n",
              "\n",
              "      <script>\n",
              "        const buttonEl =\n",
              "          document.querySelector('#df-21a03671-b0b5-4d8b-b27d-bc7e678c7319 button.colab-df-convert');\n",
              "        buttonEl.style.display =\n",
              "          google.colab.kernel.accessAllowed ? 'block' : 'none';\n",
              "\n",
              "        async function convertToInteractive(key) {\n",
              "          const element = document.querySelector('#df-21a03671-b0b5-4d8b-b27d-bc7e678c7319');\n",
              "          const dataTable =\n",
              "            await google.colab.kernel.invokeFunction('convertToInteractive',\n",
              "                                                     [key], {});\n",
              "          if (!dataTable) return;\n",
              "\n",
              "          const docLinkHtml = 'Like what you see? Visit the ' +\n",
              "            '<a target=\"_blank\" href=https://colab.research.google.com/notebooks/data_table.ipynb>data table notebook</a>'\n",
              "            + ' to learn more about interactive tables.';\n",
              "          element.innerHTML = '';\n",
              "          dataTable['output_type'] = 'display_data';\n",
              "          await google.colab.output.renderOutput(dataTable, element);\n",
              "          const docLink = document.createElement('div');\n",
              "          docLink.innerHTML = docLinkHtml;\n",
              "          element.appendChild(docLink);\n",
              "        }\n",
              "      </script>\n",
              "    </div>\n",
              "  </div>\n",
              "  "
            ]
          },
          "metadata": {},
          "execution_count": 41
        }
      ]
    },
    {
      "cell_type": "code",
      "source": [
        "weights.to_csv(path_files + 'weights.csv')"
      ],
      "metadata": {
        "id": "qy2HIa_buHUk"
      },
      "execution_count": null,
      "outputs": []
    },
    {
      "cell_type": "code",
      "source": [
        "# Get the recipes names:\n",
        "info = pd.read_csv(path_files + \"RAW_recipes.csv\", index_col='id')\n",
        "\n",
        "# df_recipes = pd.read_csv(path_files + \"RAW_recipes.csv\", sep=\",\")"
      ],
      "metadata": {
        "id": "XQwnUa2Twsj9"
      },
      "execution_count": null,
      "outputs": []
    },
    {
      "cell_type": "code",
      "source": [
        "weights.index"
      ],
      "metadata": {
        "colab": {
          "base_uri": "https://localhost:8080/"
        },
        "id": "qkVYrsV7wso6",
        "outputId": "0fbccf24-97ab-4380-c021-8278683993da"
      },
      "execution_count": null,
      "outputs": [
        {
          "output_type": "execute_result",
          "data": {
            "text/plain": [
              "Int64Index([ 126581,  506429,  347483,  240668,  810753,  274727,  348365,\n",
              "             456206,  235413, 1002631,\n",
              "            ...\n",
              "             402812, 1132042,  479657, 1008316, 1089606, 1129597,  269454,\n",
              "             579672,  746909, 1011390],\n",
              "           dtype='int64', length=11318)"
            ]
          },
          "metadata": {},
          "execution_count": 73
        }
      ]
    }
  ]
}